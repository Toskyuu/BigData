{
 "cells": [
  {
   "cell_type": "markdown",
   "id": "b341f502-0057-47ec-a58e-ca2b8a2c0fcb",
   "metadata": {},
   "source": [
    "2.5. Uruchom klienta BigQuery z poziomu Pythona."
   ]
  },
  {
   "cell_type": "code",
   "execution_count": 1,
   "id": "7746a461-aed9-4414-8bc2-3f0183a9f8f4",
   "metadata": {
    "ExecuteTime": {
     "end_time": "2024-03-17T09:06:22.056703600Z",
     "start_time": "2024-03-17T09:06:19.580009900Z"
    }
   },
   "outputs": [
    {
     "ename": "DefaultCredentialsError",
     "evalue": "File C:\\Users\\rober\\OneDrive\\Pulpit\\semestr 6\\BigData\\windy-access-416710-5959edbfa345.json was not found.",
     "output_type": "error",
     "traceback": [
      "\u001B[1;31m---------------------------------------------------------------------------\u001B[0m",
      "\u001B[1;31mDefaultCredentialsError\u001B[0m                   Traceback (most recent call last)",
      "Cell \u001B[1;32mIn[1], line 5\u001B[0m\n\u001B[0;32m      3\u001B[0m \u001B[38;5;28;01mfrom\u001B[39;00m \u001B[38;5;21;01mgoogle\u001B[39;00m\u001B[38;5;21;01m.\u001B[39;00m\u001B[38;5;21;01mcloud\u001B[39;00m \u001B[38;5;28;01mimport\u001B[39;00m bigquery\n\u001B[0;32m      4\u001B[0m os\u001B[38;5;241m.\u001B[39menviron[\u001B[38;5;124m\"\u001B[39m\u001B[38;5;124mGOOGLE_APPLICATION_CREDENTIALS\u001B[39m\u001B[38;5;124m\"\u001B[39m] \u001B[38;5;241m=\u001B[39m \u001B[38;5;124m\"\u001B[39m\u001B[38;5;124mC:\u001B[39m\u001B[38;5;130;01m\\\\\u001B[39;00m\u001B[38;5;124mUsers\u001B[39m\u001B[38;5;130;01m\\\\\u001B[39;00m\u001B[38;5;124mrober\u001B[39m\u001B[38;5;130;01m\\\\\u001B[39;00m\u001B[38;5;124mOneDrive\u001B[39m\u001B[38;5;130;01m\\\\\u001B[39;00m\u001B[38;5;124mPulpit\u001B[39m\u001B[38;5;130;01m\\\\\u001B[39;00m\u001B[38;5;124msemestr 6\u001B[39m\u001B[38;5;130;01m\\\\\u001B[39;00m\u001B[38;5;124mBigData\u001B[39m\u001B[38;5;130;01m\\\\\u001B[39;00m\u001B[38;5;124mwindy-access-416710-5959edbfa345.json\u001B[39m\u001B[38;5;124m\"\u001B[39m  \u001B[38;5;66;03m# lokalizacja pobranego klucza z punktu 1.4.\u001B[39;00m\n\u001B[1;32m----> 5\u001B[0m client \u001B[38;5;241m=\u001B[39m \u001B[43mbigquery\u001B[49m\u001B[38;5;241;43m.\u001B[39;49m\u001B[43mClient\u001B[49m\u001B[43m(\u001B[49m\u001B[43m)\u001B[49m\n",
      "File \u001B[1;32m~\\AppData\\Local\\Programs\\Python\\Python310\\lib\\site-packages\\google\\cloud\\bigquery\\client.py:241\u001B[0m, in \u001B[0;36mClient.__init__\u001B[1;34m(self, project, credentials, _http, location, default_query_job_config, default_load_job_config, client_info, client_options)\u001B[0m\n\u001B[0;32m    230\u001B[0m \u001B[38;5;28;01mdef\u001B[39;00m \u001B[38;5;21m__init__\u001B[39m(\n\u001B[0;32m    231\u001B[0m     \u001B[38;5;28mself\u001B[39m,\n\u001B[0;32m    232\u001B[0m     project\u001B[38;5;241m=\u001B[39m\u001B[38;5;28;01mNone\u001B[39;00m,\n\u001B[1;32m   (...)\u001B[0m\n\u001B[0;32m    239\u001B[0m     client_options\u001B[38;5;241m=\u001B[39m\u001B[38;5;28;01mNone\u001B[39;00m,\n\u001B[0;32m    240\u001B[0m ) \u001B[38;5;241m-\u001B[39m\u001B[38;5;241m>\u001B[39m \u001B[38;5;28;01mNone\u001B[39;00m:\n\u001B[1;32m--> 241\u001B[0m     \u001B[38;5;28;43msuper\u001B[39;49m\u001B[43m(\u001B[49m\u001B[43mClient\u001B[49m\u001B[43m,\u001B[49m\u001B[43m \u001B[49m\u001B[38;5;28;43mself\u001B[39;49m\u001B[43m)\u001B[49m\u001B[38;5;241;43m.\u001B[39;49m\u001B[38;5;21;43m__init__\u001B[39;49m\u001B[43m(\u001B[49m\n\u001B[0;32m    242\u001B[0m \u001B[43m        \u001B[49m\u001B[43mproject\u001B[49m\u001B[38;5;241;43m=\u001B[39;49m\u001B[43mproject\u001B[49m\u001B[43m,\u001B[49m\n\u001B[0;32m    243\u001B[0m \u001B[43m        \u001B[49m\u001B[43mcredentials\u001B[49m\u001B[38;5;241;43m=\u001B[39;49m\u001B[43mcredentials\u001B[49m\u001B[43m,\u001B[49m\n\u001B[0;32m    244\u001B[0m \u001B[43m        \u001B[49m\u001B[43mclient_options\u001B[49m\u001B[38;5;241;43m=\u001B[39;49m\u001B[43mclient_options\u001B[49m\u001B[43m,\u001B[49m\n\u001B[0;32m    245\u001B[0m \u001B[43m        \u001B[49m\u001B[43m_http\u001B[49m\u001B[38;5;241;43m=\u001B[39;49m\u001B[43m_http\u001B[49m\u001B[43m,\u001B[49m\n\u001B[0;32m    246\u001B[0m \u001B[43m    \u001B[49m\u001B[43m)\u001B[49m\n\u001B[0;32m    248\u001B[0m     kw_args \u001B[38;5;241m=\u001B[39m {\u001B[38;5;124m\"\u001B[39m\u001B[38;5;124mclient_info\u001B[39m\u001B[38;5;124m\"\u001B[39m: client_info}\n\u001B[0;32m    249\u001B[0m     bq_host \u001B[38;5;241m=\u001B[39m _get_bigquery_host()\n",
      "File \u001B[1;32m~\\AppData\\Local\\Programs\\Python\\Python310\\lib\\site-packages\\google\\cloud\\client\\__init__.py:320\u001B[0m, in \u001B[0;36mClientWithProject.__init__\u001B[1;34m(self, project, credentials, client_options, _http)\u001B[0m\n\u001B[0;32m    319\u001B[0m \u001B[38;5;28;01mdef\u001B[39;00m \u001B[38;5;21m__init__\u001B[39m(\u001B[38;5;28mself\u001B[39m, project\u001B[38;5;241m=\u001B[39m\u001B[38;5;28;01mNone\u001B[39;00m, credentials\u001B[38;5;241m=\u001B[39m\u001B[38;5;28;01mNone\u001B[39;00m, client_options\u001B[38;5;241m=\u001B[39m\u001B[38;5;28;01mNone\u001B[39;00m, _http\u001B[38;5;241m=\u001B[39m\u001B[38;5;28;01mNone\u001B[39;00m):\n\u001B[1;32m--> 320\u001B[0m     \u001B[43m_ClientProjectMixin\u001B[49m\u001B[38;5;241;43m.\u001B[39;49m\u001B[38;5;21;43m__init__\u001B[39;49m\u001B[43m(\u001B[49m\u001B[38;5;28;43mself\u001B[39;49m\u001B[43m,\u001B[49m\u001B[43m \u001B[49m\u001B[43mproject\u001B[49m\u001B[38;5;241;43m=\u001B[39;49m\u001B[43mproject\u001B[49m\u001B[43m,\u001B[49m\u001B[43m \u001B[49m\u001B[43mcredentials\u001B[49m\u001B[38;5;241;43m=\u001B[39;49m\u001B[43mcredentials\u001B[49m\u001B[43m)\u001B[49m\n\u001B[0;32m    321\u001B[0m     Client\u001B[38;5;241m.\u001B[39m\u001B[38;5;21m__init__\u001B[39m(\n\u001B[0;32m    322\u001B[0m         \u001B[38;5;28mself\u001B[39m, credentials\u001B[38;5;241m=\u001B[39mcredentials, client_options\u001B[38;5;241m=\u001B[39mclient_options, _http\u001B[38;5;241m=\u001B[39m_http\n\u001B[0;32m    323\u001B[0m     )\n",
      "File \u001B[1;32m~\\AppData\\Local\\Programs\\Python\\Python310\\lib\\site-packages\\google\\cloud\\client\\__init__.py:268\u001B[0m, in \u001B[0;36m_ClientProjectMixin.__init__\u001B[1;34m(self, project, credentials)\u001B[0m\n\u001B[0;32m    265\u001B[0m     project \u001B[38;5;241m=\u001B[39m \u001B[38;5;28mgetattr\u001B[39m(credentials, \u001B[38;5;124m\"\u001B[39m\u001B[38;5;124mproject_id\u001B[39m\u001B[38;5;124m\"\u001B[39m, \u001B[38;5;28;01mNone\u001B[39;00m)\n\u001B[0;32m    267\u001B[0m \u001B[38;5;28;01mif\u001B[39;00m project \u001B[38;5;129;01mis\u001B[39;00m \u001B[38;5;28;01mNone\u001B[39;00m:\n\u001B[1;32m--> 268\u001B[0m     project \u001B[38;5;241m=\u001B[39m \u001B[38;5;28;43mself\u001B[39;49m\u001B[38;5;241;43m.\u001B[39;49m\u001B[43m_determine_default\u001B[49m\u001B[43m(\u001B[49m\u001B[43mproject\u001B[49m\u001B[43m)\u001B[49m\n\u001B[0;32m    270\u001B[0m \u001B[38;5;28;01mif\u001B[39;00m project \u001B[38;5;129;01mis\u001B[39;00m \u001B[38;5;28;01mNone\u001B[39;00m:\n\u001B[0;32m    271\u001B[0m     \u001B[38;5;28;01mraise\u001B[39;00m \u001B[38;5;167;01mEnvironmentError\u001B[39;00m(\n\u001B[0;32m    272\u001B[0m         \u001B[38;5;124m\"\u001B[39m\u001B[38;5;124mProject was not passed and could not be \u001B[39m\u001B[38;5;124m\"\u001B[39m\n\u001B[0;32m    273\u001B[0m         \u001B[38;5;124m\"\u001B[39m\u001B[38;5;124mdetermined from the environment.\u001B[39m\u001B[38;5;124m\"\u001B[39m\n\u001B[0;32m    274\u001B[0m     )\n",
      "File \u001B[1;32m~\\AppData\\Local\\Programs\\Python\\Python310\\lib\\site-packages\\google\\cloud\\client\\__init__.py:287\u001B[0m, in \u001B[0;36m_ClientProjectMixin._determine_default\u001B[1;34m(project)\u001B[0m\n\u001B[0;32m    284\u001B[0m \u001B[38;5;129m@staticmethod\u001B[39m\n\u001B[0;32m    285\u001B[0m \u001B[38;5;28;01mdef\u001B[39;00m \u001B[38;5;21m_determine_default\u001B[39m(project):\n\u001B[0;32m    286\u001B[0m \u001B[38;5;250m    \u001B[39m\u001B[38;5;124;03m\"\"\"Helper:  use default project detection.\"\"\"\u001B[39;00m\n\u001B[1;32m--> 287\u001B[0m     \u001B[38;5;28;01mreturn\u001B[39;00m \u001B[43m_determine_default_project\u001B[49m\u001B[43m(\u001B[49m\u001B[43mproject\u001B[49m\u001B[43m)\u001B[49m\n",
      "File \u001B[1;32m~\\AppData\\Local\\Programs\\Python\\Python310\\lib\\site-packages\\google\\cloud\\_helpers\\__init__.py:152\u001B[0m, in \u001B[0;36m_determine_default_project\u001B[1;34m(project)\u001B[0m\n\u001B[0;32m    140\u001B[0m \u001B[38;5;250m\u001B[39m\u001B[38;5;124;03m\"\"\"Determine default project ID explicitly or implicitly as fall-back.\u001B[39;00m\n\u001B[0;32m    141\u001B[0m \n\u001B[0;32m    142\u001B[0m \u001B[38;5;124;03mSee :func:`google.auth.default` for details on how the default project\u001B[39;00m\n\u001B[1;32m   (...)\u001B[0m\n\u001B[0;32m    149\u001B[0m \u001B[38;5;124;03m:returns: Default project if it can be determined.\u001B[39;00m\n\u001B[0;32m    150\u001B[0m \u001B[38;5;124;03m\"\"\"\u001B[39;00m\n\u001B[0;32m    151\u001B[0m \u001B[38;5;28;01mif\u001B[39;00m project \u001B[38;5;129;01mis\u001B[39;00m \u001B[38;5;28;01mNone\u001B[39;00m:\n\u001B[1;32m--> 152\u001B[0m     _, project \u001B[38;5;241m=\u001B[39m \u001B[43mgoogle\u001B[49m\u001B[38;5;241;43m.\u001B[39;49m\u001B[43mauth\u001B[49m\u001B[38;5;241;43m.\u001B[39;49m\u001B[43mdefault\u001B[49m\u001B[43m(\u001B[49m\u001B[43m)\u001B[49m\n\u001B[0;32m    153\u001B[0m \u001B[38;5;28;01mreturn\u001B[39;00m project\n",
      "File \u001B[1;32m~\\AppData\\Local\\Programs\\Python\\Python310\\lib\\site-packages\\google\\auth\\_default.py:657\u001B[0m, in \u001B[0;36mdefault\u001B[1;34m(scopes, request, quota_project_id, default_scopes)\u001B[0m\n\u001B[0;32m    645\u001B[0m checkers \u001B[38;5;241m=\u001B[39m (\n\u001B[0;32m    646\u001B[0m     \u001B[38;5;66;03m# Avoid passing scopes here to prevent passing scopes to user credentials.\u001B[39;00m\n\u001B[0;32m    647\u001B[0m     \u001B[38;5;66;03m# with_scopes_if_required() below will ensure scopes/default scopes are\u001B[39;00m\n\u001B[1;32m   (...)\u001B[0m\n\u001B[0;32m    653\u001B[0m     \u001B[38;5;28;01mlambda\u001B[39;00m: _get_gce_credentials(request, quota_project_id\u001B[38;5;241m=\u001B[39mquota_project_id),\n\u001B[0;32m    654\u001B[0m )\n\u001B[0;32m    656\u001B[0m \u001B[38;5;28;01mfor\u001B[39;00m checker \u001B[38;5;129;01min\u001B[39;00m checkers:\n\u001B[1;32m--> 657\u001B[0m     credentials, project_id \u001B[38;5;241m=\u001B[39m \u001B[43mchecker\u001B[49m\u001B[43m(\u001B[49m\u001B[43m)\u001B[49m\n\u001B[0;32m    658\u001B[0m     \u001B[38;5;28;01mif\u001B[39;00m credentials \u001B[38;5;129;01mis\u001B[39;00m \u001B[38;5;129;01mnot\u001B[39;00m \u001B[38;5;28;01mNone\u001B[39;00m:\n\u001B[0;32m    659\u001B[0m         credentials \u001B[38;5;241m=\u001B[39m with_scopes_if_required(\n\u001B[0;32m    660\u001B[0m             credentials, scopes, default_scopes\u001B[38;5;241m=\u001B[39mdefault_scopes\n\u001B[0;32m    661\u001B[0m         )\n",
      "File \u001B[1;32m~\\AppData\\Local\\Programs\\Python\\Python310\\lib\\site-packages\\google\\auth\\_default.py:650\u001B[0m, in \u001B[0;36mdefault.<locals>.<lambda>\u001B[1;34m()\u001B[0m\n\u001B[0;32m    639\u001B[0m \u001B[38;5;28;01mfrom\u001B[39;00m \u001B[38;5;21;01mgoogle\u001B[39;00m\u001B[38;5;21;01m.\u001B[39;00m\u001B[38;5;21;01mauth\u001B[39;00m\u001B[38;5;21;01m.\u001B[39;00m\u001B[38;5;21;01mcredentials\u001B[39;00m \u001B[38;5;28;01mimport\u001B[39;00m CredentialsWithQuotaProject\n\u001B[0;32m    641\u001B[0m explicit_project_id \u001B[38;5;241m=\u001B[39m os\u001B[38;5;241m.\u001B[39menviron\u001B[38;5;241m.\u001B[39mget(\n\u001B[0;32m    642\u001B[0m     environment_vars\u001B[38;5;241m.\u001B[39mPROJECT, os\u001B[38;5;241m.\u001B[39menviron\u001B[38;5;241m.\u001B[39mget(environment_vars\u001B[38;5;241m.\u001B[39mLEGACY_PROJECT)\n\u001B[0;32m    643\u001B[0m )\n\u001B[0;32m    645\u001B[0m checkers \u001B[38;5;241m=\u001B[39m (\n\u001B[0;32m    646\u001B[0m     \u001B[38;5;66;03m# Avoid passing scopes here to prevent passing scopes to user credentials.\u001B[39;00m\n\u001B[0;32m    647\u001B[0m     \u001B[38;5;66;03m# with_scopes_if_required() below will ensure scopes/default scopes are\u001B[39;00m\n\u001B[0;32m    648\u001B[0m     \u001B[38;5;66;03m# safely set on the returned credentials since requires_scopes will\u001B[39;00m\n\u001B[0;32m    649\u001B[0m     \u001B[38;5;66;03m# guard against setting scopes on user credentials.\u001B[39;00m\n\u001B[1;32m--> 650\u001B[0m     \u001B[38;5;28;01mlambda\u001B[39;00m: \u001B[43m_get_explicit_environ_credentials\u001B[49m\u001B[43m(\u001B[49m\u001B[43mquota_project_id\u001B[49m\u001B[38;5;241;43m=\u001B[39;49m\u001B[43mquota_project_id\u001B[49m\u001B[43m)\u001B[49m,\n\u001B[0;32m    651\u001B[0m     \u001B[38;5;28;01mlambda\u001B[39;00m: _get_gcloud_sdk_credentials(quota_project_id\u001B[38;5;241m=\u001B[39mquota_project_id),\n\u001B[0;32m    652\u001B[0m     _get_gae_credentials,\n\u001B[0;32m    653\u001B[0m     \u001B[38;5;28;01mlambda\u001B[39;00m: _get_gce_credentials(request, quota_project_id\u001B[38;5;241m=\u001B[39mquota_project_id),\n\u001B[0;32m    654\u001B[0m )\n\u001B[0;32m    656\u001B[0m \u001B[38;5;28;01mfor\u001B[39;00m checker \u001B[38;5;129;01min\u001B[39;00m checkers:\n\u001B[0;32m    657\u001B[0m     credentials, project_id \u001B[38;5;241m=\u001B[39m checker()\n",
      "File \u001B[1;32m~\\AppData\\Local\\Programs\\Python\\Python310\\lib\\site-packages\\google\\auth\\_default.py:270\u001B[0m, in \u001B[0;36m_get_explicit_environ_credentials\u001B[1;34m(quota_project_id)\u001B[0m\n\u001B[0;32m    267\u001B[0m     \u001B[38;5;28;01mreturn\u001B[39;00m _get_gcloud_sdk_credentials(quota_project_id\u001B[38;5;241m=\u001B[39mquota_project_id)\n\u001B[0;32m    269\u001B[0m \u001B[38;5;28;01mif\u001B[39;00m explicit_file \u001B[38;5;129;01mis\u001B[39;00m \u001B[38;5;129;01mnot\u001B[39;00m \u001B[38;5;28;01mNone\u001B[39;00m:\n\u001B[1;32m--> 270\u001B[0m     credentials, project_id \u001B[38;5;241m=\u001B[39m \u001B[43mload_credentials_from_file\u001B[49m\u001B[43m(\u001B[49m\n\u001B[0;32m    271\u001B[0m \u001B[43m        \u001B[49m\u001B[43mos\u001B[49m\u001B[38;5;241;43m.\u001B[39;49m\u001B[43menviron\u001B[49m\u001B[43m[\u001B[49m\u001B[43menvironment_vars\u001B[49m\u001B[38;5;241;43m.\u001B[39;49m\u001B[43mCREDENTIALS\u001B[49m\u001B[43m]\u001B[49m\u001B[43m,\u001B[49m\u001B[43m \u001B[49m\u001B[43mquota_project_id\u001B[49m\u001B[38;5;241;43m=\u001B[39;49m\u001B[43mquota_project_id\u001B[49m\n\u001B[0;32m    272\u001B[0m \u001B[43m    \u001B[49m\u001B[43m)\u001B[49m\n\u001B[0;32m    274\u001B[0m     \u001B[38;5;28;01mreturn\u001B[39;00m credentials, project_id\n\u001B[0;32m    276\u001B[0m \u001B[38;5;28;01melse\u001B[39;00m:\n",
      "File \u001B[1;32m~\\AppData\\Local\\Programs\\Python\\Python310\\lib\\site-packages\\google\\auth\\_default.py:114\u001B[0m, in \u001B[0;36mload_credentials_from_file\u001B[1;34m(filename, scopes, default_scopes, quota_project_id, request)\u001B[0m\n\u001B[0;32m     82\u001B[0m \u001B[38;5;250m\u001B[39m\u001B[38;5;124;03m\"\"\"Loads Google credentials from a file.\u001B[39;00m\n\u001B[0;32m     83\u001B[0m \n\u001B[0;32m     84\u001B[0m \u001B[38;5;124;03mThe credentials file must be a service account key, stored authorized\u001B[39;00m\n\u001B[1;32m   (...)\u001B[0m\n\u001B[0;32m    111\u001B[0m \u001B[38;5;124;03m        wrong format or is missing.\u001B[39;00m\n\u001B[0;32m    112\u001B[0m \u001B[38;5;124;03m\"\"\"\u001B[39;00m\n\u001B[0;32m    113\u001B[0m \u001B[38;5;28;01mif\u001B[39;00m \u001B[38;5;129;01mnot\u001B[39;00m os\u001B[38;5;241m.\u001B[39mpath\u001B[38;5;241m.\u001B[39mexists(filename):\n\u001B[1;32m--> 114\u001B[0m     \u001B[38;5;28;01mraise\u001B[39;00m exceptions\u001B[38;5;241m.\u001B[39mDefaultCredentialsError(\n\u001B[0;32m    115\u001B[0m         \u001B[38;5;124m\"\u001B[39m\u001B[38;5;124mFile \u001B[39m\u001B[38;5;132;01m{}\u001B[39;00m\u001B[38;5;124m was not found.\u001B[39m\u001B[38;5;124m\"\u001B[39m\u001B[38;5;241m.\u001B[39mformat(filename)\n\u001B[0;32m    116\u001B[0m     )\n\u001B[0;32m    118\u001B[0m \u001B[38;5;28;01mwith\u001B[39;00m io\u001B[38;5;241m.\u001B[39mopen(filename, \u001B[38;5;124m\"\u001B[39m\u001B[38;5;124mr\u001B[39m\u001B[38;5;124m\"\u001B[39m) \u001B[38;5;28;01mas\u001B[39;00m file_obj:\n\u001B[0;32m    119\u001B[0m     \u001B[38;5;28;01mtry\u001B[39;00m:\n",
      "\u001B[1;31mDefaultCredentialsError\u001B[0m: File C:\\Users\\rober\\OneDrive\\Pulpit\\semestr 6\\BigData\\windy-access-416710-5959edbfa345.json was not found."
     ]
    }
   ],
   "source": [
    "import os\n",
    "import pandas as pd\n",
    "from google.cloud import bigquery\n",
    "os.environ[\"GOOGLE_APPLICATION_CREDENTIALS\"] = \"C:\\\\Users\\\\rober\\\\OneDrive\\\\Pulpit\\\\semestr 6\\\\BigData\\\\windy-access-416710-5959edbfa345.json\"  # lokalizacja pobranego klucza z punktu 1.4.\n",
    "client = bigquery.Client()"
   ]
  },
  {
   "cell_type": "markdown",
   "id": "76e9f9ae-105c-4b6f-90ff-e279def51b68",
   "metadata": {},
   "source": [
    " 2.6. Pobierz dane do obiektu DataFrame."
   ]
  },
  {
   "cell_type": "code",
   "execution_count": null,
   "id": "1f9785ba-d169-4b1c-b989-d9657a1817e9",
   "metadata": {},
   "outputs": [],
   "source": [
    "query = \"SELECT * FROM `bigquery-public-data.covid19_open_data.covid19_open_data` LIMIT 10\"\n",
    "query_job = client.query(query)\n",
    "query_result = query_job.result()\n",
    "df = query_result.to_dataframe()\n",
    "df.to_csv('C:\\\\Users\\\\rober\\\\OneDrive\\\\Pulpit\\\\semestr 6\\\\BigData\\\\zad1\\\\wyniki\\\\dane.csv', index=False)"
   ]
  },
  {
   "cell_type": "markdown",
   "id": "ff750ecf-101f-43f2-920b-19331ccd0780",
   "metadata": {},
   "source": [
    "Część 4\n",
    "\n",
    "Przeanalizuj poniższe przypadki. Zastanów się, jakie dane potrzebujesz do każdego z nich, a następnie zapisz je w osobnych, jak najprostszych obiektach DataFrame. Na tym etapie nie przetwarzaj ich. Zadbaj o czystość danych, m.in. usuń niepotrzebne puste wartości i duplikaty, zunifikuj sposób podawania informacji, zaproponuj sposób naprawy błędnych danych. Gotowe dane z obiektów DataFrame zapisz w osobnych plikach CSV."
   ]
  },
  {
   "cell_type": "markdown",
   "id": "f69e4939-05d0-46ce-8dd7-e3b7f41aa8fa",
   "metadata": {},
   "source": [
    "4.1. Chcemy posiadać podstawowe dane o wszystkich krajach świata, które będą zrozumiałe dla człowieka oraz uniwersalne i potencjalnie przyszłościowe do dalszego przetwarzania."
   ]
  },
  {
   "cell_type": "code",
   "execution_count": null,
   "id": "d65454d8-0de8-4205-ba42-0600035e1ba1",
   "metadata": {},
   "outputs": [],
   "source": [
    "query = \"SELECT DISTINCT country_name AS `Country name`, iso_3166_1_alpha_3 AS `3 letter country code` FROM `bigquery-public-data.covid19_open_data.covid19_open_data`\"\n",
    "query_country = client.query(query)\n",
    "query_country_result = query_country.result()\n",
    "country_df = query_country_result.to_dataframe()\n",
    "country_df.dropna(inplace=True)\n",
    "country_df.to_csv('C:\\\\Users\\\\rober\\\\OneDrive\\\\Pulpit\\\\semestr 6\\\\BigData\\\\zad1\\\\wyniki\\\\country_data.csv', index=False)"
   ]
  },
  {
   "cell_type": "markdown",
   "id": "00f93035-6a72-4771-adaa-2d8343be2f3c",
   "metadata": {},
   "source": [
    "4.2. Chcemy wygenerować statystyki dotyczące zachorowań na COVID-19 na całym świecie."
   ]
  },
  {
   "cell_type": "code",
   "execution_count": null,
   "id": "0e7eb4dc-3e03-49e7-89af-3d4d22856392",
   "metadata": {},
   "outputs": [],
   "source": [
    "query = \"SELECT country_name AS `Country name`, iso_3166_1_alpha_3 AS `3 letter country code`, SUM(new_confirmed) as `Total confirmed cases` FROM `bigquery-public-data.covid19_open_data.covid19_open_data`  GROUP BY country_name, iso_3166_1_alpha_3 ORDER BY country_name \"\n",
    "query_disease = client.query(query)\n",
    "query_disease_result = query_disease.result()\n",
    "disease_df = query_disease_result.to_dataframe()\n",
    "disease_df.dropna(inplace=True)\n",
    "disease_df.to_csv('C:\\\\Users\\\\rober\\\\OneDrive\\\\Pulpit\\\\semestr 6\\\\BigData\\\\zad1\\\\wyniki\\\\disease_data.csv', index=False)"
   ]
  },
  {
   "cell_type": "markdown",
   "id": "76c0f9db-8008-4633-a9c9-cac0b5cf52e3",
   "metadata": {},
   "source": [
    "4.3. Chcemy poznać efekty COVID-19 poprzez uwypuklenie problemu śmiertelności ludzi spowodowanej wirusem."
   ]
  },
  {
   "cell_type": "code",
   "execution_count": null,
   "id": "d294da36-bfdb-461a-b20c-f807321e7d6a",
   "metadata": {},
   "outputs": [],
   "source": [
    "query = \"SELECT country_name AS `Country name`, iso_3166_1_alpha_3 AS `3 letter country code`, SUM(new_deceased) as `Total deceased` FROM `bigquery-public-data.covid19_open_data.covid19_open_data`  GROUP BY country_name, iso_3166_1_alpha_3 ORDER BY country_name \"\n",
    "query_deceased = client.query(query)\n",
    "query_deceased_result = query_deceased.result()\n",
    "deceased_df = query_deceased_result.to_dataframe()\n",
    "deceased_df.dropna(inplace=True)\n",
    "deceased_df.to_csv('C:\\\\Users\\\\rober\\\\OneDrive\\\\Pulpit\\\\semestr 6\\\\BigData\\\\zad1\\\\wyniki\\\\deceased_data.csv', index=False)"
   ]
  },
  {
   "cell_type": "markdown",
   "id": "56c59366-b5a8-4d8f-96ce-6a9cce4cd125",
   "metadata": {},
   "source": [
    "4.4. Chcemy zaobserwować trendy i zależności dotyczące szczepień na COVID-19."
   ]
  },
  {
   "cell_type": "code",
   "execution_count": null,
   "id": "388395ec-b05f-49be-9151-1fe36d22ca87",
   "metadata": {},
   "outputs": [],
   "source": [
    "query = \"SELECT country_name AS `Country name`, iso_3166_1_alpha_3 AS `3 letter country code`, SUM(new_persons_fully_vaccinated) as `Total persons fully vaccinated`, SUM(new_persons_vaccinated) as `Total vacinations` FROM `bigquery-public-data.covid19_open_data.covid19_open_data`  GROUP BY country_name, iso_3166_1_alpha_3 ORDER BY country_name \"\n",
    "query_vaccine = client.query(query)\n",
    "query_vaccine_result = query_vaccine.result()\n",
    "vaccine_df = query_vaccine_result.to_dataframe()\n",
    "vaccine_df.dropna(inplace=True)\n",
    "vaccine_df.to_csv('C:\\\\Users\\\\rober\\\\OneDrive\\\\Pulpit\\\\semestr 6\\\\BigData\\\\zad1\\\\wyniki\\\\vaccine_data.csv', index=False)"
   ]
  },
  {
   "cell_type": "markdown",
   "id": "90aec923-b91f-4a5e-90bd-4f94c589bdff",
   "metadata": {},
   "source": [
    "4.5. Zdefiniuj własny dodatkowy przypadek.\n",
    "\n",
    "Liczba wykonanych testów na całym świecie"
   ]
  },
  {
   "cell_type": "code",
   "execution_count": null,
   "id": "94827b41-9731-44ec-8022-8f56ee7295ff",
   "metadata": {},
   "outputs": [],
   "source": [
    "query = \"SELECT country_name AS `Country name`, iso_3166_1_alpha_3 AS `3 letter country code`, SUM(cast(new_tested as integer)) as `Total tested persons` FROM `bigquery-public-data.covid19_open_data.covid19_open_data`  GROUP BY country_name, iso_3166_1_alpha_3 ORDER BY country_name \"\n",
    "query_tested = client.query(query)\n",
    "query_tested_result = query_tested.result()\n",
    "tested_df = query_tested_result.to_dataframe()\n",
    "tested_df.dropna(inplace=True)\n",
    "tested_df.to_csv('C:\\\\Users\\\\rober\\\\OneDrive\\\\Pulpit\\\\semestr 6\\\\BigData\\\\zad1\\\\wyniki\\\\tested_data.csv', index=False)"
   ]
  },
  {
   "cell_type": "markdown",
   "id": "9af20576-052c-4fea-8a44-d84489e1afcd",
   "metadata": {},
   "source": [
    "Część 5\n",
    "\n",
    "Połącz ze sobą wszystkie dane otrzymane w części 4. Nowy zbiór danych zapisz jako oddzielny obiekt DataFrame. Jeżeli uważasz, że należy stworzyć kilka takich obiektów, zrób to i zapisz swoje uzasadnienie. Pamiętaj o ciągłej konieczności zachowania czystości danych. Wynik tego zadania zapisz w pliku / plikach CSV."
   ]
  },
  {
   "cell_type": "code",
   "execution_count": null,
   "id": "1593e1f2-ab55-4d9d-bc8c-525883bffd41",
   "metadata": {},
   "outputs": [],
   "source": [
    "merged_country_disease = pd.merge(country_df, disease_df, on=['Country name', '3 letter country code'])\n",
    "merged_country_disease_deceased = pd.merge(merged_country_disease, deceased_df, on=['Country name', '3 letter country code'])\n",
    "merged_country_disease_deceased_vaccine = pd.merge(merged_country_disease_deceased, vaccine_df, on=['Country name', '3 letter country code'])\n",
    "merged_df_per_country = pd.merge(merged_country_disease_deceased_vaccine, tested_df, on=['Country name', '3 letter country code'])\n",
    "merged_df_per_country.to_csv('C:\\\\Users\\\\rober\\\\OneDrive\\\\Pulpit\\\\semestr 6\\\\BigData\\\\zad1\\\\wyniki\\\\part_5_merged.csv', index=False)"
   ]
  },
  {
   "cell_type": "markdown",
   "id": "bb40af1a-cbfc-471e-a989-a76477513ae9",
   "metadata": {},
   "source": [
    "Część 6\n",
    "\n",
    "Połącz ze sobą dane otrzymane w części 5 oraz dane znajdujące się w plikach:\n",
    "- world_countries.csv\n",
    "- gdp.csv\n",
    "Nowy zbiór danych zapisz jako oddzielny obiekt DataFrame. Jeżeli uważasz, że należy stworzyć kilka takich obiektów, zrób to i zapisz swoje uzasadnienie. Pamiętaj o ciągłej konieczności zachowania czystości danych. Wynik tego zadania zapisz w pliku / plikach CSV."
   ]
  },
  {
   "cell_type": "code",
   "execution_count": 2,
   "id": "2bf3a837-2e8c-4a0e-8dfd-32b1997e7270",
   "metadata": {
    "ExecuteTime": {
     "end_time": "2024-03-17T10:22:16.981928100Z",
     "start_time": "2024-03-17T10:22:15.992146Z"
    }
   },
   "outputs": [
    {
     "ename": "FileNotFoundError",
     "evalue": "[Errno 2] No such file or directory: 'C:\\\\Users\\\\rober\\\\OneDrive\\\\Pulpit\\\\semestr 6\\\\BigData\\\\zad1\\\\dane_z_wikamp\\\\world_countries.csv'",
     "output_type": "error",
     "traceback": [
      "\u001B[1;31m---------------------------------------------------------------------------\u001B[0m",
      "\u001B[1;31mFileNotFoundError\u001B[0m                         Traceback (most recent call last)",
      "Cell \u001B[1;32mIn[2], line 1\u001B[0m\n\u001B[1;32m----> 1\u001B[0m world_countries_df \u001B[38;5;241m=\u001B[39m \u001B[43mpd\u001B[49m\u001B[38;5;241;43m.\u001B[39;49m\u001B[43mread_csv\u001B[49m\u001B[43m(\u001B[49m\u001B[38;5;124;43m'\u001B[39;49m\u001B[38;5;124;43mC:\u001B[39;49m\u001B[38;5;130;43;01m\\\\\u001B[39;49;00m\u001B[38;5;124;43mUsers\u001B[39;49m\u001B[38;5;130;43;01m\\\\\u001B[39;49;00m\u001B[38;5;124;43mrober\u001B[39;49m\u001B[38;5;130;43;01m\\\\\u001B[39;49;00m\u001B[38;5;124;43mOneDrive\u001B[39;49m\u001B[38;5;130;43;01m\\\\\u001B[39;49;00m\u001B[38;5;124;43mPulpit\u001B[39;49m\u001B[38;5;130;43;01m\\\\\u001B[39;49;00m\u001B[38;5;124;43msemestr 6\u001B[39;49m\u001B[38;5;130;43;01m\\\\\u001B[39;49;00m\u001B[38;5;124;43mBigData\u001B[39;49m\u001B[38;5;130;43;01m\\\\\u001B[39;49;00m\u001B[38;5;124;43mzad1\u001B[39;49m\u001B[38;5;130;43;01m\\\\\u001B[39;49;00m\u001B[38;5;124;43mdane_z_wikamp\u001B[39;49m\u001B[38;5;130;43;01m\\\\\u001B[39;49;00m\u001B[38;5;124;43mworld_countries.csv\u001B[39;49m\u001B[38;5;124;43m'\u001B[39;49m\u001B[43m)\u001B[49m\n\u001B[0;32m      2\u001B[0m gdp_df \u001B[38;5;241m=\u001B[39m pd\u001B[38;5;241m.\u001B[39mread_csv(\u001B[38;5;124m'\u001B[39m\u001B[38;5;124mC:\u001B[39m\u001B[38;5;130;01m\\\\\u001B[39;00m\u001B[38;5;124mUsers\u001B[39m\u001B[38;5;130;01m\\\\\u001B[39;00m\u001B[38;5;124mrober\u001B[39m\u001B[38;5;130;01m\\\\\u001B[39;00m\u001B[38;5;124mOneDrive\u001B[39m\u001B[38;5;130;01m\\\\\u001B[39;00m\u001B[38;5;124mPulpit\u001B[39m\u001B[38;5;130;01m\\\\\u001B[39;00m\u001B[38;5;124msemestr 6\u001B[39m\u001B[38;5;130;01m\\\\\u001B[39;00m\u001B[38;5;124mBigData\u001B[39m\u001B[38;5;130;01m\\\\\u001B[39;00m\u001B[38;5;124mzad1\u001B[39m\u001B[38;5;130;01m\\\\\u001B[39;00m\u001B[38;5;124mdane_z_wikamp\u001B[39m\u001B[38;5;130;01m\\\\\u001B[39;00m\u001B[38;5;124mgdp.csv\u001B[39m\u001B[38;5;124m'\u001B[39m)\n\u001B[0;32m      4\u001B[0m merged_df_per_country_world_countries \u001B[38;5;241m=\u001B[39m pd\u001B[38;5;241m.\u001B[39mmerge(merged_df_per_country, world_countries_df, left_on\u001B[38;5;241m=\u001B[39m\u001B[38;5;124m'\u001B[39m\u001B[38;5;124mcountry_name\u001B[39m\u001B[38;5;124m'\u001B[39m, right_on\u001B[38;5;241m=\u001B[39m\u001B[38;5;124m'\u001B[39m\u001B[38;5;124mCountry/Territory\u001B[39m\u001B[38;5;124m'\u001B[39m)\n",
      "File \u001B[1;32m~\\AppData\\Local\\Programs\\Python\\Python310\\lib\\site-packages\\pandas\\util\\_decorators.py:211\u001B[0m, in \u001B[0;36mdeprecate_kwarg.<locals>._deprecate_kwarg.<locals>.wrapper\u001B[1;34m(*args, **kwargs)\u001B[0m\n\u001B[0;32m    209\u001B[0m     \u001B[38;5;28;01melse\u001B[39;00m:\n\u001B[0;32m    210\u001B[0m         kwargs[new_arg_name] \u001B[38;5;241m=\u001B[39m new_arg_value\n\u001B[1;32m--> 211\u001B[0m \u001B[38;5;28;01mreturn\u001B[39;00m func(\u001B[38;5;241m*\u001B[39margs, \u001B[38;5;241m*\u001B[39m\u001B[38;5;241m*\u001B[39mkwargs)\n",
      "File \u001B[1;32m~\\AppData\\Local\\Programs\\Python\\Python310\\lib\\site-packages\\pandas\\util\\_decorators.py:331\u001B[0m, in \u001B[0;36mdeprecate_nonkeyword_arguments.<locals>.decorate.<locals>.wrapper\u001B[1;34m(*args, **kwargs)\u001B[0m\n\u001B[0;32m    325\u001B[0m \u001B[38;5;28;01mif\u001B[39;00m \u001B[38;5;28mlen\u001B[39m(args) \u001B[38;5;241m>\u001B[39m num_allow_args:\n\u001B[0;32m    326\u001B[0m     warnings\u001B[38;5;241m.\u001B[39mwarn(\n\u001B[0;32m    327\u001B[0m         msg\u001B[38;5;241m.\u001B[39mformat(arguments\u001B[38;5;241m=\u001B[39m_format_argument_list(allow_args)),\n\u001B[0;32m    328\u001B[0m         \u001B[38;5;167;01mFutureWarning\u001B[39;00m,\n\u001B[0;32m    329\u001B[0m         stacklevel\u001B[38;5;241m=\u001B[39mfind_stack_level(),\n\u001B[0;32m    330\u001B[0m     )\n\u001B[1;32m--> 331\u001B[0m \u001B[38;5;28;01mreturn\u001B[39;00m func(\u001B[38;5;241m*\u001B[39margs, \u001B[38;5;241m*\u001B[39m\u001B[38;5;241m*\u001B[39mkwargs)\n",
      "File \u001B[1;32m~\\AppData\\Local\\Programs\\Python\\Python310\\lib\\site-packages\\pandas\\io\\parsers\\readers.py:950\u001B[0m, in \u001B[0;36mread_csv\u001B[1;34m(filepath_or_buffer, sep, delimiter, header, names, index_col, usecols, squeeze, prefix, mangle_dupe_cols, dtype, engine, converters, true_values, false_values, skipinitialspace, skiprows, skipfooter, nrows, na_values, keep_default_na, na_filter, verbose, skip_blank_lines, parse_dates, infer_datetime_format, keep_date_col, date_parser, dayfirst, cache_dates, iterator, chunksize, compression, thousands, decimal, lineterminator, quotechar, quoting, doublequote, escapechar, comment, encoding, encoding_errors, dialect, error_bad_lines, warn_bad_lines, on_bad_lines, delim_whitespace, low_memory, memory_map, float_precision, storage_options)\u001B[0m\n\u001B[0;32m    935\u001B[0m kwds_defaults \u001B[38;5;241m=\u001B[39m _refine_defaults_read(\n\u001B[0;32m    936\u001B[0m     dialect,\n\u001B[0;32m    937\u001B[0m     delimiter,\n\u001B[1;32m   (...)\u001B[0m\n\u001B[0;32m    946\u001B[0m     defaults\u001B[38;5;241m=\u001B[39m{\u001B[38;5;124m\"\u001B[39m\u001B[38;5;124mdelimiter\u001B[39m\u001B[38;5;124m\"\u001B[39m: \u001B[38;5;124m\"\u001B[39m\u001B[38;5;124m,\u001B[39m\u001B[38;5;124m\"\u001B[39m},\n\u001B[0;32m    947\u001B[0m )\n\u001B[0;32m    948\u001B[0m kwds\u001B[38;5;241m.\u001B[39mupdate(kwds_defaults)\n\u001B[1;32m--> 950\u001B[0m \u001B[38;5;28;01mreturn\u001B[39;00m \u001B[43m_read\u001B[49m\u001B[43m(\u001B[49m\u001B[43mfilepath_or_buffer\u001B[49m\u001B[43m,\u001B[49m\u001B[43m \u001B[49m\u001B[43mkwds\u001B[49m\u001B[43m)\u001B[49m\n",
      "File \u001B[1;32m~\\AppData\\Local\\Programs\\Python\\Python310\\lib\\site-packages\\pandas\\io\\parsers\\readers.py:605\u001B[0m, in \u001B[0;36m_read\u001B[1;34m(filepath_or_buffer, kwds)\u001B[0m\n\u001B[0;32m    602\u001B[0m _validate_names(kwds\u001B[38;5;241m.\u001B[39mget(\u001B[38;5;124m\"\u001B[39m\u001B[38;5;124mnames\u001B[39m\u001B[38;5;124m\"\u001B[39m, \u001B[38;5;28;01mNone\u001B[39;00m))\n\u001B[0;32m    604\u001B[0m \u001B[38;5;66;03m# Create the parser.\u001B[39;00m\n\u001B[1;32m--> 605\u001B[0m parser \u001B[38;5;241m=\u001B[39m TextFileReader(filepath_or_buffer, \u001B[38;5;241m*\u001B[39m\u001B[38;5;241m*\u001B[39mkwds)\n\u001B[0;32m    607\u001B[0m \u001B[38;5;28;01mif\u001B[39;00m chunksize \u001B[38;5;129;01mor\u001B[39;00m iterator:\n\u001B[0;32m    608\u001B[0m     \u001B[38;5;28;01mreturn\u001B[39;00m parser\n",
      "File \u001B[1;32m~\\AppData\\Local\\Programs\\Python\\Python310\\lib\\site-packages\\pandas\\io\\parsers\\readers.py:1442\u001B[0m, in \u001B[0;36mTextFileReader.__init__\u001B[1;34m(self, f, engine, **kwds)\u001B[0m\n\u001B[0;32m   1439\u001B[0m     \u001B[38;5;28mself\u001B[39m\u001B[38;5;241m.\u001B[39moptions[\u001B[38;5;124m\"\u001B[39m\u001B[38;5;124mhas_index_names\u001B[39m\u001B[38;5;124m\"\u001B[39m] \u001B[38;5;241m=\u001B[39m kwds[\u001B[38;5;124m\"\u001B[39m\u001B[38;5;124mhas_index_names\u001B[39m\u001B[38;5;124m\"\u001B[39m]\n\u001B[0;32m   1441\u001B[0m \u001B[38;5;28mself\u001B[39m\u001B[38;5;241m.\u001B[39mhandles: IOHandles \u001B[38;5;241m|\u001B[39m \u001B[38;5;28;01mNone\u001B[39;00m \u001B[38;5;241m=\u001B[39m \u001B[38;5;28;01mNone\u001B[39;00m\n\u001B[1;32m-> 1442\u001B[0m \u001B[38;5;28mself\u001B[39m\u001B[38;5;241m.\u001B[39m_engine \u001B[38;5;241m=\u001B[39m \u001B[38;5;28;43mself\u001B[39;49m\u001B[38;5;241;43m.\u001B[39;49m\u001B[43m_make_engine\u001B[49m\u001B[43m(\u001B[49m\u001B[43mf\u001B[49m\u001B[43m,\u001B[49m\u001B[43m \u001B[49m\u001B[38;5;28;43mself\u001B[39;49m\u001B[38;5;241;43m.\u001B[39;49m\u001B[43mengine\u001B[49m\u001B[43m)\u001B[49m\n",
      "File \u001B[1;32m~\\AppData\\Local\\Programs\\Python\\Python310\\lib\\site-packages\\pandas\\io\\parsers\\readers.py:1735\u001B[0m, in \u001B[0;36mTextFileReader._make_engine\u001B[1;34m(self, f, engine)\u001B[0m\n\u001B[0;32m   1733\u001B[0m     \u001B[38;5;28;01mif\u001B[39;00m \u001B[38;5;124m\"\u001B[39m\u001B[38;5;124mb\u001B[39m\u001B[38;5;124m\"\u001B[39m \u001B[38;5;129;01mnot\u001B[39;00m \u001B[38;5;129;01min\u001B[39;00m mode:\n\u001B[0;32m   1734\u001B[0m         mode \u001B[38;5;241m+\u001B[39m\u001B[38;5;241m=\u001B[39m \u001B[38;5;124m\"\u001B[39m\u001B[38;5;124mb\u001B[39m\u001B[38;5;124m\"\u001B[39m\n\u001B[1;32m-> 1735\u001B[0m \u001B[38;5;28mself\u001B[39m\u001B[38;5;241m.\u001B[39mhandles \u001B[38;5;241m=\u001B[39m \u001B[43mget_handle\u001B[49m\u001B[43m(\u001B[49m\n\u001B[0;32m   1736\u001B[0m \u001B[43m    \u001B[49m\u001B[43mf\u001B[49m\u001B[43m,\u001B[49m\n\u001B[0;32m   1737\u001B[0m \u001B[43m    \u001B[49m\u001B[43mmode\u001B[49m\u001B[43m,\u001B[49m\n\u001B[0;32m   1738\u001B[0m \u001B[43m    \u001B[49m\u001B[43mencoding\u001B[49m\u001B[38;5;241;43m=\u001B[39;49m\u001B[38;5;28;43mself\u001B[39;49m\u001B[38;5;241;43m.\u001B[39;49m\u001B[43moptions\u001B[49m\u001B[38;5;241;43m.\u001B[39;49m\u001B[43mget\u001B[49m\u001B[43m(\u001B[49m\u001B[38;5;124;43m\"\u001B[39;49m\u001B[38;5;124;43mencoding\u001B[39;49m\u001B[38;5;124;43m\"\u001B[39;49m\u001B[43m,\u001B[49m\u001B[43m \u001B[49m\u001B[38;5;28;43;01mNone\u001B[39;49;00m\u001B[43m)\u001B[49m\u001B[43m,\u001B[49m\n\u001B[0;32m   1739\u001B[0m \u001B[43m    \u001B[49m\u001B[43mcompression\u001B[49m\u001B[38;5;241;43m=\u001B[39;49m\u001B[38;5;28;43mself\u001B[39;49m\u001B[38;5;241;43m.\u001B[39;49m\u001B[43moptions\u001B[49m\u001B[38;5;241;43m.\u001B[39;49m\u001B[43mget\u001B[49m\u001B[43m(\u001B[49m\u001B[38;5;124;43m\"\u001B[39;49m\u001B[38;5;124;43mcompression\u001B[39;49m\u001B[38;5;124;43m\"\u001B[39;49m\u001B[43m,\u001B[49m\u001B[43m \u001B[49m\u001B[38;5;28;43;01mNone\u001B[39;49;00m\u001B[43m)\u001B[49m\u001B[43m,\u001B[49m\n\u001B[0;32m   1740\u001B[0m \u001B[43m    \u001B[49m\u001B[43mmemory_map\u001B[49m\u001B[38;5;241;43m=\u001B[39;49m\u001B[38;5;28;43mself\u001B[39;49m\u001B[38;5;241;43m.\u001B[39;49m\u001B[43moptions\u001B[49m\u001B[38;5;241;43m.\u001B[39;49m\u001B[43mget\u001B[49m\u001B[43m(\u001B[49m\u001B[38;5;124;43m\"\u001B[39;49m\u001B[38;5;124;43mmemory_map\u001B[39;49m\u001B[38;5;124;43m\"\u001B[39;49m\u001B[43m,\u001B[49m\u001B[43m \u001B[49m\u001B[38;5;28;43;01mFalse\u001B[39;49;00m\u001B[43m)\u001B[49m\u001B[43m,\u001B[49m\n\u001B[0;32m   1741\u001B[0m \u001B[43m    \u001B[49m\u001B[43mis_text\u001B[49m\u001B[38;5;241;43m=\u001B[39;49m\u001B[43mis_text\u001B[49m\u001B[43m,\u001B[49m\n\u001B[0;32m   1742\u001B[0m \u001B[43m    \u001B[49m\u001B[43merrors\u001B[49m\u001B[38;5;241;43m=\u001B[39;49m\u001B[38;5;28;43mself\u001B[39;49m\u001B[38;5;241;43m.\u001B[39;49m\u001B[43moptions\u001B[49m\u001B[38;5;241;43m.\u001B[39;49m\u001B[43mget\u001B[49m\u001B[43m(\u001B[49m\u001B[38;5;124;43m\"\u001B[39;49m\u001B[38;5;124;43mencoding_errors\u001B[39;49m\u001B[38;5;124;43m\"\u001B[39;49m\u001B[43m,\u001B[49m\u001B[43m \u001B[49m\u001B[38;5;124;43m\"\u001B[39;49m\u001B[38;5;124;43mstrict\u001B[39;49m\u001B[38;5;124;43m\"\u001B[39;49m\u001B[43m)\u001B[49m\u001B[43m,\u001B[49m\n\u001B[0;32m   1743\u001B[0m \u001B[43m    \u001B[49m\u001B[43mstorage_options\u001B[49m\u001B[38;5;241;43m=\u001B[39;49m\u001B[38;5;28;43mself\u001B[39;49m\u001B[38;5;241;43m.\u001B[39;49m\u001B[43moptions\u001B[49m\u001B[38;5;241;43m.\u001B[39;49m\u001B[43mget\u001B[49m\u001B[43m(\u001B[49m\u001B[38;5;124;43m\"\u001B[39;49m\u001B[38;5;124;43mstorage_options\u001B[39;49m\u001B[38;5;124;43m\"\u001B[39;49m\u001B[43m,\u001B[49m\u001B[43m \u001B[49m\u001B[38;5;28;43;01mNone\u001B[39;49;00m\u001B[43m)\u001B[49m\u001B[43m,\u001B[49m\n\u001B[0;32m   1744\u001B[0m \u001B[43m\u001B[49m\u001B[43m)\u001B[49m\n\u001B[0;32m   1745\u001B[0m \u001B[38;5;28;01massert\u001B[39;00m \u001B[38;5;28mself\u001B[39m\u001B[38;5;241m.\u001B[39mhandles \u001B[38;5;129;01mis\u001B[39;00m \u001B[38;5;129;01mnot\u001B[39;00m \u001B[38;5;28;01mNone\u001B[39;00m\n\u001B[0;32m   1746\u001B[0m f \u001B[38;5;241m=\u001B[39m \u001B[38;5;28mself\u001B[39m\u001B[38;5;241m.\u001B[39mhandles\u001B[38;5;241m.\u001B[39mhandle\n",
      "File \u001B[1;32m~\\AppData\\Local\\Programs\\Python\\Python310\\lib\\site-packages\\pandas\\io\\common.py:856\u001B[0m, in \u001B[0;36mget_handle\u001B[1;34m(path_or_buf, mode, encoding, compression, memory_map, is_text, errors, storage_options)\u001B[0m\n\u001B[0;32m    851\u001B[0m \u001B[38;5;28;01melif\u001B[39;00m \u001B[38;5;28misinstance\u001B[39m(handle, \u001B[38;5;28mstr\u001B[39m):\n\u001B[0;32m    852\u001B[0m     \u001B[38;5;66;03m# Check whether the filename is to be opened in binary mode.\u001B[39;00m\n\u001B[0;32m    853\u001B[0m     \u001B[38;5;66;03m# Binary mode does not support 'encoding' and 'newline'.\u001B[39;00m\n\u001B[0;32m    854\u001B[0m     \u001B[38;5;28;01mif\u001B[39;00m ioargs\u001B[38;5;241m.\u001B[39mencoding \u001B[38;5;129;01mand\u001B[39;00m \u001B[38;5;124m\"\u001B[39m\u001B[38;5;124mb\u001B[39m\u001B[38;5;124m\"\u001B[39m \u001B[38;5;129;01mnot\u001B[39;00m \u001B[38;5;129;01min\u001B[39;00m ioargs\u001B[38;5;241m.\u001B[39mmode:\n\u001B[0;32m    855\u001B[0m         \u001B[38;5;66;03m# Encoding\u001B[39;00m\n\u001B[1;32m--> 856\u001B[0m         handle \u001B[38;5;241m=\u001B[39m \u001B[38;5;28;43mopen\u001B[39;49m\u001B[43m(\u001B[49m\n\u001B[0;32m    857\u001B[0m \u001B[43m            \u001B[49m\u001B[43mhandle\u001B[49m\u001B[43m,\u001B[49m\n\u001B[0;32m    858\u001B[0m \u001B[43m            \u001B[49m\u001B[43mioargs\u001B[49m\u001B[38;5;241;43m.\u001B[39;49m\u001B[43mmode\u001B[49m\u001B[43m,\u001B[49m\n\u001B[0;32m    859\u001B[0m \u001B[43m            \u001B[49m\u001B[43mencoding\u001B[49m\u001B[38;5;241;43m=\u001B[39;49m\u001B[43mioargs\u001B[49m\u001B[38;5;241;43m.\u001B[39;49m\u001B[43mencoding\u001B[49m\u001B[43m,\u001B[49m\n\u001B[0;32m    860\u001B[0m \u001B[43m            \u001B[49m\u001B[43merrors\u001B[49m\u001B[38;5;241;43m=\u001B[39;49m\u001B[43merrors\u001B[49m\u001B[43m,\u001B[49m\n\u001B[0;32m    861\u001B[0m \u001B[43m            \u001B[49m\u001B[43mnewline\u001B[49m\u001B[38;5;241;43m=\u001B[39;49m\u001B[38;5;124;43m\"\u001B[39;49m\u001B[38;5;124;43m\"\u001B[39;49m\u001B[43m,\u001B[49m\n\u001B[0;32m    862\u001B[0m \u001B[43m        \u001B[49m\u001B[43m)\u001B[49m\n\u001B[0;32m    863\u001B[0m     \u001B[38;5;28;01melse\u001B[39;00m:\n\u001B[0;32m    864\u001B[0m         \u001B[38;5;66;03m# Binary mode\u001B[39;00m\n\u001B[0;32m    865\u001B[0m         handle \u001B[38;5;241m=\u001B[39m \u001B[38;5;28mopen\u001B[39m(handle, ioargs\u001B[38;5;241m.\u001B[39mmode)\n",
      "\u001B[1;31mFileNotFoundError\u001B[0m: [Errno 2] No such file or directory: 'C:\\\\Users\\\\rober\\\\OneDrive\\\\Pulpit\\\\semestr 6\\\\BigData\\\\zad1\\\\dane_z_wikamp\\\\world_countries.csv'"
     ]
    }
   ],
   "source": [
    "world_countries_df = pd.read_csv('C:\\\\Users\\\\rober\\\\OneDrive\\\\Pulpit\\\\semestr 6\\\\BigData\\\\zad1\\\\dane_z_wikamp\\\\world_countries.csv')\n",
    "gdp_df = pd.read_csv('C:\\\\Users\\\\rober\\\\OneDrive\\\\Pulpit\\\\semestr 6\\\\BigData\\\\zad1\\\\dane_z_wikamp\\\\gdp.csv')\n",
    "\n",
    "merged_df_per_country_world_countries = pd.merge(merged_df_per_country, world_countries_df, left_on='Country name', right_on='Country/Territory')\n",
    "merged_df_per_country_world_countries.drop('Country/Territory', axis=1, inplace=True)\n",
    "merged_df_per_country_world_countries.drop('CCA3', axis=1, inplace=True)\n",
    "merged_df_per_country_world_countries.to_csv('C:\\\\Users\\\\rober\\\\OneDrive\\\\Pulpit\\\\semestr 6\\\\BigData\\\\zad1\\\\wyniki\\\\part_6_05_merged.csv', index=False)\n",
    "\n",
    "merged_df_data = pd.merge(merged_df_per_country_world_countries, gdp_df, left_on='Country name', right_on='Country Name')\n",
    "merged_df_data.drop('Country Name', axis=1, inplace=True)\n",
    "merged_df_data.drop('Country Code', axis=1, inplace=True)\n",
    "merged_df_data.rename(columns={\"Value\" : \"GDP Value\"}, inplace=True)\n",
    "merged_df_data.to_csv('C:\\\\Users\\\\Kacper\\\\Documents\\\\Studia\\\\6sem\\\\BigDataWyniki\\\\Zad1\\\\part_6_01_merged.csv', index=False)"
   ]
  }
 ],
 "metadata": {
  "kernelspec": {
   "display_name": "Python 3 (ipykernel)",
   "language": "python",
   "name": "python3"
  },
  "language_info": {
   "codemirror_mode": {
    "name": "ipython",
    "version": 3
   },
   "file_extension": ".py",
   "mimetype": "text/x-python",
   "name": "python",
   "nbconvert_exporter": "python",
   "pygments_lexer": "ipython3",
   "version": "3.11.2"
  }
 },
 "nbformat": 4,
 "nbformat_minor": 5
}
