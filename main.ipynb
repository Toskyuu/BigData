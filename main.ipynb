{
 "cells": [
  {
   "cell_type": "markdown",
   "id": "b341f502-0057-47ec-a58e-ca2b8a2c0fcb",
   "metadata": {},
   "source": [
    "2.5. Uruchom klienta BigQuery z poziomu Pythona."
   ]
  },
  {
   "cell_type": "code",
   "execution_count": null,
   "id": "7746a461-aed9-4414-8bc2-3f0183a9f8f4",
   "metadata": {},
   "outputs": [],
   "source": [
    "import os\n",
    "import pandas as pd\n",
    "from google.cloud import bigquery\n",
    "os.environ[\"GOOGLE_APPLICATION_CREDENTIALS\"] = \"C:\\\\Users\\\\rober\\\\OneDrive\\\\Pulpit\\\\semestr 6\\\\BigData\\\\windy-access-416710-5959edbfa345.json\"  # lokalizacja pobranego klucza z punktu 1.4.\n",
    "client = bigquery.Client()"
   ]
  },
  {
   "cell_type": "markdown",
   "id": "76e9f9ae-105c-4b6f-90ff-e279def51b68",
   "metadata": {},
   "source": [
    " 2.6. Pobierz dane do obiektu DataFrame."
   ]
  },
  {
   "cell_type": "code",
   "execution_count": null,
   "id": "1f9785ba-d169-4b1c-b989-d9657a1817e9",
   "metadata": {},
   "outputs": [],
   "source": [
    "query = \"SELECT * FROM `bigquery-public-data.covid19_open_data.covid19_open_data` LIMIT 10\"\n",
    "query_job = client.query(query)\n",
    "query_result = query_job.result()\n",
    "df = query_result.to_dataframe()\n",
    "df.to_csv('C:\\\\Users\\\\rober\\\\OneDrive\\\\Pulpit\\\\semestr 6\\\\BigData\\\\zad1\\\\wyniki\\\\dane.csv', index=False)"
   ]
  },
  {
   "cell_type": "markdown",
   "id": "ff750ecf-101f-43f2-920b-19331ccd0780",
   "metadata": {},
   "source": [
    "Część 4\n",
    "\n",
    "Przeanalizuj poniższe przypadki. Zastanów się, jakie dane potrzebujesz do każdego z nich, a następnie zapisz je w osobnych, jak najprostszych obiektach DataFrame. Na tym etapie nie przetwarzaj ich. Zadbaj o czystość danych, m.in. usuń niepotrzebne puste wartości i duplikaty, zunifikuj sposób podawania informacji, zaproponuj sposób naprawy błędnych danych. Gotowe dane z obiektów DataFrame zapisz w osobnych plikach CSV."
   ]
  },
  {
   "cell_type": "markdown",
   "id": "f69e4939-05d0-46ce-8dd7-e3b7f41aa8fa",
   "metadata": {},
   "source": [
    "4.1. Chcemy posiadać podstawowe dane o wszystkich krajach świata, które będą zrozumiałe dla człowieka oraz uniwersalne i potencjalnie przyszłościowe do dalszego przetwarzania."
   ]
  },
  {
   "cell_type": "code",
   "execution_count": null,
   "id": "d65454d8-0de8-4205-ba42-0600035e1ba1",
   "metadata": {},
   "outputs": [],
   "source": [
    "query = \"SELECT DISTINCT country_code, country_name FROM `bigquery-public-data.covid19_open_data.covid19_open_data`\"\n",
    "query_country = client.query(query)\n",
    "query_country_result = query_country.result()\n",
    "country_df = query_country_result.to_dataframe()\n",
    "country_df.dropna(inplace=True)\n",
    "country_df.to_csv('C:\\\\Users\\\\rober\\\\OneDrive\\\\Pulpit\\\\semestr 6\\\\BigData\\\\zad1\\\\wyniki\\\\country_data.csv', index=False)"
   ]
  },
  {
   "cell_type": "markdown",
   "id": "00f93035-6a72-4771-adaa-2d8343be2f3c",
   "metadata": {},
   "source": [
    "4.2. Chcemy wygenerować statystyki dotyczące zachorowań na COVID-19 na całym świecie."
   ]
  },
  {
   "cell_type": "code",
   "execution_count": null,
   "id": "0e7eb4dc-3e03-49e7-89af-3d4d22856392",
   "metadata": {},
   "outputs": [],
   "source": [
    "query = \"SELECT country_code, country_name, SUM(new_confirmed) as `total_confirmed_cases_per_country` FROM `bigquery-public-data.covid19_open_data.covid19_open_data`  GROUP BY country_name, country_code ORDER BY country_name \"\n",
    "query_disease = client.query(query)\n",
    "query_disease_result = query_disease.result()\n",
    "disease_df = query_disease_result.to_dataframe()\n",
    "disease_df.dropna(inplace=True)\n",
    "disease_df.to_csv('C:\\\\Users\\\\rober\\\\OneDrive\\\\Pulpit\\\\semestr 6\\\\BigData\\\\zad1\\\\wyniki\\\\disease_data.csv', index=False)"
   ]
  },
  {
   "cell_type": "markdown",
   "id": "76c0f9db-8008-4633-a9c9-cac0b5cf52e3",
   "metadata": {},
   "source": [
    "4.3. Chcemy poznać efekty COVID-19 poprzez uwypuklenie problemu śmiertelności ludzi spowodowanej wirusem."
   ]
  },
  {
   "cell_type": "code",
   "execution_count": null,
   "id": "d294da36-bfdb-461a-b20c-f807321e7d6a",
   "metadata": {},
   "outputs": [],
   "source": [
    "query = \"SELECT country_code, country_name, SUM(new_deceased) as `total_deceased_per_country` FROM `bigquery-public-data.covid19_open_data.covid19_open_data`  GROUP BY country_name, country_code ORDER BY country_name \"\n",
    "query_deceased = client.query(query)\n",
    "query_deceased_result = query_deceased.result()\n",
    "deceased_df = query_deceased_result.to_dataframe()\n",
    "deceased_df.dropna(inplace=True)\n",
    "deceased_df.to_csv('C:\\\\Users\\\\rober\\\\OneDrive\\\\Pulpit\\\\semestr 6\\\\BigData\\\\zad1\\\\wyniki\\\\deceased_data.csv', index=False)"
   ]
  },
  {
   "cell_type": "markdown",
   "id": "56c59366-b5a8-4d8f-96ce-6a9cce4cd125",
   "metadata": {},
   "source": [
    "4.4. Chcemy zaobserwować trendy i zależności dotyczące szczepień na COVID-19."
   ]
  },
  {
   "cell_type": "code",
   "execution_count": null,
   "id": "388395ec-b05f-49be-9151-1fe36d22ca87",
   "metadata": {},
   "outputs": [],
   "source": [
    "query = \"SELECT country_code, country_name, SUM(new_persons_vaccinated) as `global_persons_vaccinated` FROM `bigquery-public-data.covid19_open_data.covid19_open_data`  GROUP BY country_code, country_name ORDER BY country_name \"\n",
    "query_vaccine = client.query(query)\n",
    "query_vaccine_result = query_vaccine.result()\n",
    "vaccine_df = query_vaccine_result.to_dataframe()\n",
    "vaccine_df.dropna(inplace=True)\n",
    "vaccine_df.to_csv('C:\\\\Users\\\\rober\\\\OneDrive\\\\Pulpit\\\\semestr 6\\\\BigData\\\\zad1\\\\wyniki\\\\vaccine_data.csv', index=False)"
   ]
  },
  {
   "cell_type": "markdown",
   "id": "90aec923-b91f-4a5e-90bd-4f94c589bdff",
   "metadata": {},
   "source": [
    "4.5. Zdefiniuj własny dodatkowy przypadek.\n",
    "\n",
    "Liczba wykonanych testów na całym świecie"
   ]
  },
  {
   "cell_type": "code",
   "execution_count": null,
   "id": "94827b41-9731-44ec-8022-8f56ee7295ff",
   "metadata": {},
   "outputs": [],
   "source": [
    "query = \"SELECT country_code, country_name, SUM(cast(new_tested as integer)) as `total_tested_person_per_country` FROM `bigquery-public-data.covid19_open_data.covid19_open_data`  GROUP BY country_name, country_code ORDER BY country_name \"\n",
    "query_tested = client.query(query)\n",
    "query_tested_result = query_tested.result()\n",
    "tested_df = query_tested_result.to_dataframe()\n",
    "tested_df.dropna(inplace=True)\n",
    "tested_df.to_csv('C:\\\\Users\\\\rober\\\\OneDrive\\\\Pulpit\\\\semestr 6\\\\BigData\\\\zad1\\\\wyniki\\\\tested_data.csv', index=False)"
   ]
  },
  {
   "cell_type": "markdown",
   "id": "9af20576-052c-4fea-8a44-d84489e1afcd",
   "metadata": {},
   "source": [
    "Część 5\n",
    "\n",
    "Połącz ze sobą wszystkie dane otrzymane w części 4. Nowy zbiór danych zapisz jako oddzielny obiekt DataFrame. Jeżeli uważasz, że należy stworzyć kilka takich obiektów, zrób to i zapisz swoje uzasadnienie. Pamiętaj o ciągłej konieczności zachowania czystości danych. Wynik tego zadania zapisz w pliku / plikach CSV."
   ]
  },
  {
   "cell_type": "code",
   "execution_count": null,
   "id": "1593e1f2-ab55-4d9d-bc8c-525883bffd41",
   "metadata": {},
   "outputs": [],
   "source": [
    "merged_country_disease = pd.merge(country_df, disease_df, on=['country_name', 'country_code'])\n",
    "merged_country_disease_deceased = pd.merge(merged_country_disease, deceased_df, on=['country_name', 'country_code'])\n",
    "merged_country_disease_deceased_vaccine = pd.merge(merged_country_disease_deceased, vaccine_df, on=['country_name', 'country_code'])\n",
    "merged_df_per_country = pd.merge(merged_country_disease_deceased_vaccine, tested_df, on=['country_name', 'country_code'])\n",
    "merged_df_per_country.to_csv('C:\\\\Users\\\\rober\\\\OneDrive\\\\Pulpit\\\\semestr 6\\\\BigData\\\\zad1\\\\wyniki\\\\part_5_merged.csv', index=False)"
   ]
  },
  {
   "cell_type": "markdown",
   "id": "bb40af1a-cbfc-471e-a989-a76477513ae9",
   "metadata": {},
   "source": [
    "Część 6\n",
    "\n",
    "Połącz ze sobą dane otrzymane w części 5 oraz dane znajdujące się w plikach:\n",
    "- world_countries.csv\n",
    "- gdp.csv\n",
    "Nowy zbiór danych zapisz jako oddzielny obiekt DataFrame. Jeżeli uważasz, że należy stworzyć kilka takich obiektów, zrób to i zapisz swoje uzasadnienie. Pamiętaj o ciągłej konieczności zachowania czystości danych. Wynik tego zadania zapisz w pliku / plikach CSV."
   ]
  },
  {
   "cell_type": "code",
   "execution_count": null,
   "id": "2bf3a837-2e8c-4a0e-8dfd-32b1997e7270",
   "metadata": {},
   "outputs": [],
   "source": [
    "world_countries_df = pd.read_csv('C:\\\\Users\\\\rober\\\\OneDrive\\\\Pulpit\\\\semestr 6\\\\BigData\\\\zad1\\\\dane_z_wikamp\\\\world_countries.csv')\n",
    "gdp_df = pd.read_csv('C:\\\\Users\\\\rober\\\\OneDrive\\\\Pulpit\\\\semestr 6\\\\BigData\\\\zad1\\\\dane_z_wikamp\\\\gdp.csv')\n",
    "\n",
    "merged_df_per_country_world_countries = pd.merge(merged_df_per_country, world_countries_df, left_on='country_name', right_on='Country/Territory')\n",
    "merged_df_per_country_world_countries.drop('Country/Territory', axis=1, inplace=True)\n",
    "merged_df_per_country_world_countries.to_csv('C:\\\\Users\\\\rober\\\\OneDrive\\\\Pulpit\\\\semestr 6\\\\BigData\\\\zad1\\\\wyniki\\\\part_6_05_merged.csv', index=False)\n",
    "\n",
    "\n",
    "# to nie działa i chuj xD, bo dane są jeszcze podzielone na lata różne i nie wiem jak to sensownie zmergować :)\n",
    "# merged_df_per_country_world_countries_gdp = pd.merge(merged_df_per_country_world_countries, gdp_df, left_on=['country_name', 'country_code'], right_on=[\"Country Name\",\"Country Code\"])\n",
    "# merged_df_per_country_world_countries_gdp.to_csv('C:\\\\Users\\\\rober\\\\OneDrive\\\\Pulpit\\\\semestr 6\\\\BigData\\\\zad1\\\\wyniki\\\\part_6_merged.csv', index=False)"
   ]
  }
 ],
 "metadata": {
  "kernelspec": {
   "display_name": "Python 3 (ipykernel)",
   "language": "python",
   "name": "python3"
  },
  "language_info": {
   "codemirror_mode": {
    "name": "ipython",
    "version": 3
   },
   "file_extension": ".py",
   "mimetype": "text/x-python",
   "name": "python",
   "nbconvert_exporter": "python",
   "pygments_lexer": "ipython3",
   "version": "3.11.2"
  }
 },
 "nbformat": 4,
 "nbformat_minor": 5
}
