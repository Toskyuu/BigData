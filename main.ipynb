{
 "cells": [
  {
   "cell_type": "markdown",
   "id": "b341f502-0057-47ec-a58e-ca2b8a2c0fcb",
   "metadata": {},
   "source": [
    "2.5. Uruchom klienta BigQuery z poziomu Pythona."
   ]
  },
  {
   "cell_type": "code",
   "execution_count": 10,
   "id": "7746a461-aed9-4414-8bc2-3f0183a9f8f4",
   "metadata": {
    "ExecuteTime": {
     "end_time": "2024-03-19T11:30:43.801528300Z",
     "start_time": "2024-03-19T11:30:43.790530800Z"
    }
   },
   "outputs": [],
   "source": [
    "import os\n",
    "import pandas as pd\n",
    "from google.cloud import bigquery\n",
    "os.environ[\"GOOGLE_APPLICATION_CREDENTIALS\"] = \"avian-cable-246920-84cba344a448.json\"  # lokalizacja pobranego klucza z punktu 1.4.\n",
    "client = bigquery.Client()"
   ]
  },
  {
   "cell_type": "markdown",
   "id": "76e9f9ae-105c-4b6f-90ff-e279def51b68",
   "metadata": {},
   "source": [
    " 2.6. Pobierz dane do obiektu DataFrame."
   ]
  },
  {
   "cell_type": "code",
   "execution_count": 11,
   "id": "1f9785ba-d169-4b1c-b989-d9657a1817e9",
   "metadata": {
    "ExecuteTime": {
     "end_time": "2024-03-19T11:30:45.911262700Z",
     "start_time": "2024-03-19T11:30:43.805543200Z"
    }
   },
   "outputs": [],
   "source": [
    "query = \"SELECT * FROM `bigquery-public-data.covid19_open_data.covid19_open_data` LIMIT 10\"\n",
    "query_job = client.query(query)\n",
    "query_result = query_job.result()\n",
    "df = query_result.to_dataframe()\n",
    "df.to_csv('wyniki\\\\dane.csv', index=False)"
   ]
  },
  {
   "cell_type": "markdown",
   "id": "ff750ecf-101f-43f2-920b-19331ccd0780",
   "metadata": {},
   "source": [
    "Część 4\n",
    "\n",
    "Przeanalizuj poniższe przypadki. Zastanów się, jakie dane potrzebujesz do każdego z nich, a następnie zapisz je w osobnych, jak najprostszych obiektach DataFrame. Na tym etapie nie przetwarzaj ich. Zadbaj o czystość danych, m.in. usuń niepotrzebne puste wartości i duplikaty, zunifikuj sposób podawania informacji, zaproponuj sposób naprawy błędnych danych. Gotowe dane z obiektów DataFrame zapisz w osobnych plikach CSV."
   ]
  },
  {
   "cell_type": "markdown",
   "id": "f69e4939-05d0-46ce-8dd7-e3b7f41aa8fa",
   "metadata": {},
   "source": [
    "4.1. Chcemy posiadać podstawowe dane o wszystkich krajach świata, które będą zrozumiałe dla człowieka oraz uniwersalne i potencjalnie przyszłościowe do dalszego przetwarzania."
   ]
  },
  {
   "cell_type": "code",
   "execution_count": 12,
   "id": "d65454d8-0de8-4205-ba42-0600035e1ba1",
   "metadata": {
    "ExecuteTime": {
     "end_time": "2024-03-19T11:30:47.192639100Z",
     "start_time": "2024-03-19T11:30:45.916850600Z"
    }
   },
   "outputs": [],
   "source": [
    "query = \"SELECT DISTINCT country_name AS `Country name`, iso_3166_1_alpha_3 AS `3 letter country code` FROM `bigquery-public-data.covid19_open_data.covid19_open_data`\"\n",
    "query_country = client.query(query)\n",
    "query_country_result = query_country.result()\n",
    "country_df = query_country_result.to_dataframe()\n",
    "country_df.dropna(inplace=True)\n",
    "country_df.to_csv('wyniki\\\\country_data.csv', index=False)"
   ]
  },
  {
   "cell_type": "markdown",
   "id": "00f93035-6a72-4771-adaa-2d8343be2f3c",
   "metadata": {},
   "source": [
    "4.2. Chcemy wygenerować statystyki dotyczące zachorowań na COVID-19 na całym świecie."
   ]
  },
  {
   "cell_type": "code",
   "execution_count": 13,
   "id": "0e7eb4dc-3e03-49e7-89af-3d4d22856392",
   "metadata": {
    "ExecuteTime": {
     "end_time": "2024-03-19T11:30:48.413185300Z",
     "start_time": "2024-03-19T11:30:47.197640800Z"
    }
   },
   "outputs": [],
   "source": [
    "query = \"SELECT country_name AS `Country name`, iso_3166_1_alpha_3 AS `3 letter country code`, SUM(new_confirmed) as `Total confirmed cases` FROM `bigquery-public-data.covid19_open_data.covid19_open_data`  GROUP BY country_name, iso_3166_1_alpha_3 ORDER BY country_name \"\n",
    "query_disease = client.query(query)\n",
    "query_disease_result = query_disease.result()\n",
    "disease_df = query_disease_result.to_dataframe()\n",
    "disease_df.dropna(inplace=True)\n",
    "disease_df.to_csv('wyniki\\\\disease_data.csv', index=False)"
   ]
  },
  {
   "cell_type": "markdown",
   "id": "76c0f9db-8008-4633-a9c9-cac0b5cf52e3",
   "metadata": {},
   "source": [
    "4.3. Chcemy poznać efekty COVID-19 poprzez uwypuklenie problemu śmiertelności ludzi spowodowanej wirusem."
   ]
  },
  {
   "cell_type": "code",
   "execution_count": 14,
   "id": "d294da36-bfdb-461a-b20c-f807321e7d6a",
   "metadata": {
    "ExecuteTime": {
     "end_time": "2024-03-19T11:30:49.675786200Z",
     "start_time": "2024-03-19T11:30:48.418254100Z"
    }
   },
   "outputs": [],
   "source": [
    "query = \"SELECT country_name AS `Country name`, iso_3166_1_alpha_3 AS `3 letter country code`, SUM(new_deceased) as `Total deceased` FROM `bigquery-public-data.covid19_open_data.covid19_open_data`  GROUP BY country_name, iso_3166_1_alpha_3 ORDER BY country_name \"\n",
    "query_deceased = client.query(query)\n",
    "query_deceased_result = query_deceased.result()\n",
    "deceased_df = query_deceased_result.to_dataframe()\n",
    "deceased_df.dropna(inplace=True)\n",
    "deceased_df.to_csv('wyniki\\\\deceased_data.csv', index=False)"
   ]
  },
  {
   "cell_type": "markdown",
   "id": "56c59366-b5a8-4d8f-96ce-6a9cce4cd125",
   "metadata": {},
   "source": [
    "4.4. Chcemy zaobserwować trendy i zależności dotyczące szczepień na COVID-19."
   ]
  },
  {
   "cell_type": "code",
   "execution_count": 15,
   "id": "388395ec-b05f-49be-9151-1fe36d22ca87",
   "metadata": {
    "ExecuteTime": {
     "end_time": "2024-03-19T11:30:51.011470100Z",
     "start_time": "2024-03-19T11:30:49.680791Z"
    }
   },
   "outputs": [],
   "source": [
    "query = \"SELECT country_name AS `Country name`, iso_3166_1_alpha_3 AS `3 letter country code`, SUM(new_persons_fully_vaccinated) as `Total persons fully vaccinated`, SUM(new_persons_vaccinated) as `Total vacinations` FROM `bigquery-public-data.covid19_open_data.covid19_open_data`  GROUP BY country_name, iso_3166_1_alpha_3 ORDER BY country_name \"\n",
    "query_vaccine = client.query(query)\n",
    "query_vaccine_result = query_vaccine.result()\n",
    "vaccine_df = query_vaccine_result.to_dataframe()\n",
    "vaccine_df.dropna(inplace=True)\n",
    "vaccine_df.to_csv('wyniki\\\\vaccine_data.csv', index=False)"
   ]
  },
  {
   "cell_type": "markdown",
   "id": "90aec923-b91f-4a5e-90bd-4f94c589bdff",
   "metadata": {},
   "source": [
    "4.5. Zdefiniuj własny dodatkowy przypadek.\n",
    "\n",
    "Liczba wykonanych testów na całym świecie"
   ]
  },
  {
   "cell_type": "code",
   "execution_count": 16,
   "id": "94827b41-9731-44ec-8022-8f56ee7295ff",
   "metadata": {
    "ExecuteTime": {
     "end_time": "2024-03-19T11:30:52.411841500Z",
     "start_time": "2024-03-19T11:30:51.018472200Z"
    }
   },
   "outputs": [],
   "source": [
    "query = \"SELECT country_name AS `Country name`, iso_3166_1_alpha_3 AS `3 letter country code`, SUM(cast(new_tested as integer)) as `Total tested persons` FROM `bigquery-public-data.covid19_open_data.covid19_open_data`  GROUP BY country_name, iso_3166_1_alpha_3 ORDER BY country_name \"\n",
    "query_tested = client.query(query)\n",
    "query_tested_result = query_tested.result()\n",
    "tested_df = query_tested_result.to_dataframe()\n",
    "tested_df.dropna(inplace=True)\n",
    "tested_df.to_csv('wyniki\\\\tested_data.csv', index=False)"
   ]
  },
  {
   "cell_type": "markdown",
   "id": "9af20576-052c-4fea-8a44-d84489e1afcd",
   "metadata": {},
   "source": [
    "Część 5\n",
    "\n",
    "Połącz ze sobą wszystkie dane otrzymane w części 4. Nowy zbiór danych zapisz jako oddzielny obiekt DataFrame. Jeżeli uważasz, że należy stworzyć kilka takich obiektów, zrób to i zapisz swoje uzasadnienie. Pamiętaj o ciągłej konieczności zachowania czystości danych. Wynik tego zadania zapisz w pliku / plikach CSV."
   ]
  },
  {
   "cell_type": "code",
   "execution_count": 17,
   "id": "1593e1f2-ab55-4d9d-bc8c-525883bffd41",
   "metadata": {
    "ExecuteTime": {
     "end_time": "2024-03-19T11:30:52.444121600Z",
     "start_time": "2024-03-19T11:30:52.418846900Z"
    }
   },
   "outputs": [],
   "source": [
    "merged_country_disease = pd.merge(country_df, disease_df, on=['Country name', '3 letter country code'])\n",
    "merged_country_disease_deceased = pd.merge(merged_country_disease, deceased_df, on=['Country name', '3 letter country code'])\n",
    "merged_country_disease_deceased_vaccine = pd.merge(merged_country_disease_deceased, vaccine_df, on=['Country name', '3 letter country code'])\n",
    "merged_df_per_country = pd.merge(merged_country_disease_deceased_vaccine, tested_df, on=['Country name', '3 letter country code'])\n",
    "merged_df_per_country.to_csv('wyniki\\\\part_5_merged.csv', index=False)"
   ]
  },
  {
   "cell_type": "markdown",
   "id": "bb40af1a-cbfc-471e-a989-a76477513ae9",
   "metadata": {},
   "source": [
    "Część 6\n",
    "\n",
    "Połącz ze sobą dane otrzymane w części 5 oraz dane znajdujące się w plikach:\n",
    "- world_countries.csv\n",
    "- gdp.csv\n",
    "Nowy zbiór danych zapisz jako oddzielny obiekt DataFrame. Jeżeli uważasz, że należy stworzyć kilka takich obiektów, zrób to i zapisz swoje uzasadnienie. Pamiętaj o ciągłej konieczności zachowania czystości danych. Wynik tego zadania zapisz w pliku / plikach CSV."
   ]
  },
  {
   "cell_type": "code",
   "execution_count": 18,
   "id": "2bf3a837-2e8c-4a0e-8dfd-32b1997e7270",
   "metadata": {
    "ExecuteTime": {
     "end_time": "2024-03-19T11:30:52.555131900Z",
     "start_time": "2024-03-19T11:30:52.447124300Z"
    }
   },
   "outputs": [],
   "source": [
    "world_countries_df = pd.read_csv('dane_z_wikamp\\\\world_countries.csv')\n",
    "gdp_df = pd.read_csv('dane_z_wikamp\\\\gdp.csv')\n",
    "\n",
    "merged_df_per_country_world_countries = pd.merge(merged_df_per_country, world_countries_df, left_on='Country name', right_on='Country/Territory')\n",
    "merged_df_per_country_world_countries.drop('Country/Territory', axis=1, inplace=True)\n",
    "merged_df_per_country_world_countries.drop('CCA3', axis=1, inplace=True)\n",
    "merged_df_per_country_world_countries.to_csv('wyniki\\\\part_6_01_merged.csv', index=False)\n",
    "\n",
    "merged_df_data = pd.merge(merged_df_per_country_world_countries, gdp_df, left_on='Country name', right_on='Country Name')\n",
    "merged_df_data.drop('Country Name', axis=1, inplace=True)\n",
    "merged_df_data.drop('Country Code', axis=1, inplace=True)\n",
    "merged_df_data.rename(columns={\"Value\" : \"GDP Value\"}, inplace=True)\n",
    "merged_df_data.to_csv('wyniki\\\\part_6_02_merged.csv', index=False)"
   ]
  },
  {
   "cell_type": "code",
   "execution_count": 18,
   "outputs": [],
   "source": [],
   "metadata": {
    "collapsed": false,
    "ExecuteTime": {
     "end_time": "2024-03-19T11:30:52.567122300Z",
     "start_time": "2024-03-19T11:30:52.554125400Z"
    }
   },
   "id": "d1c993b7d23ecdd"
  }
 ],
 "metadata": {
  "kernelspec": {
   "display_name": "Python 3 (ipykernel)",
   "language": "python",
   "name": "python3"
  },
  "language_info": {
   "codemirror_mode": {
    "name": "ipython",
    "version": 3
   },
   "file_extension": ".py",
   "mimetype": "text/x-python",
   "name": "python",
   "nbconvert_exporter": "python",
   "pygments_lexer": "ipython3",
   "version": "3.11.2"
  }
 },
 "nbformat": 4,
 "nbformat_minor": 5
}
