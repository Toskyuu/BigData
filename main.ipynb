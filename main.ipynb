{
 "cells": [
  {
   "cell_type": "markdown",
   "id": "b341f502-0057-47ec-a58e-ca2b8a2c0fcb",
   "metadata": {},
   "source": [
    "2.5. Uruchom klienta BigQuery z poziomu Pythona."
   ]
  },
  {
   "cell_type": "code",
   "execution_count": 5,
   "id": "7746a461-aed9-4414-8bc2-3f0183a9f8f4",
   "metadata": {
    "ExecuteTime": {
     "end_time": "2024-04-04T20:31:24.951996Z",
     "start_time": "2024-04-04T20:31:24.930003800Z"
    }
   },
   "outputs": [],
   "source": [
    "import os\n",
    "import pandas as pd\n",
    "from google.cloud import bigquery\n",
    "os.environ[\"GOOGLE_APPLICATION_CREDENTIALS\"] = \"..\\\\windy-access-416710-5959edbfa345.json\"  # lokalizacja pobranego klucza z punktu 1.4.\n",
    "client = bigquery.Client()"
   ]
  },
  {
   "cell_type": "markdown",
   "id": "76e9f9ae-105c-4b6f-90ff-e279def51b68",
   "metadata": {},
   "source": [
    " 2.6. Pobierz dane do obiektu DataFrame."
   ]
  },
  {
   "cell_type": "code",
   "execution_count": 6,
   "id": "1f9785ba-d169-4b1c-b989-d9657a1817e9",
   "metadata": {
    "ExecuteTime": {
     "end_time": "2024-04-04T20:31:28.782505700Z",
     "start_time": "2024-04-04T20:31:25.967129700Z"
    }
   },
   "outputs": [],
   "source": [
    "query = \"SELECT * FROM `bigquery-public-data.covid19_open_data.covid19_open_data` LIMIT 10\"\n",
    "query_job = client.query(query)\n",
    "query_result = query_job.result()\n",
    "df = query_result.to_dataframe()"
   ]
  },
  {
   "cell_type": "markdown",
   "id": "ff750ecf-101f-43f2-920b-19331ccd0780",
   "metadata": {},
   "source": [
    "Część 4\n",
    "\n",
    "Przeanalizuj poniższe przypadki. Zastanów się, jakie dane potrzebujesz do każdego z nich, a następnie zapisz je w osobnych, jak najprostszych obiektach DataFrame. Na tym etapie nie przetwarzaj ich. Zadbaj o czystość danych, m.in. usuń niepotrzebne puste wartości i duplikaty, zunifikuj sposób podawania informacji, zaproponuj sposób naprawy błędnych danych. Gotowe dane z obiektów DataFrame zapisz w osobnych plikach CSV."
   ]
  },
  {
   "cell_type": "markdown",
   "id": "f69e4939-05d0-46ce-8dd7-e3b7f41aa8fa",
   "metadata": {},
   "source": [
    "4.1. Chcemy posiadać podstawowe dane o wszystkich krajach świata, które będą zrozumiałe dla człowieka oraz uniwersalne i potencjalnie przyszłościowe do dalszego przetwarzania."
   ]
  },
  {
   "cell_type": "code",
   "execution_count": 7,
   "id": "d65454d8-0de8-4205-ba42-0600035e1ba1",
   "metadata": {
    "ExecuteTime": {
     "end_time": "2024-04-04T20:44:50.836210Z",
     "start_time": "2024-04-04T20:44:49.468756100Z"
    }
   },
   "outputs": [],
   "source": [
    "query = \"SELECT DISTINCT country_name, iso_3166_1_alpha_2, iso_3166_1_alpha_3, population, population_male, population_female, population_rural, population_urban, population_density, population_age_00_09, population_age_10_19, population_age_20_29, population_age_30_39, population_age_40_49, population_age_50_59, population_age_60_69, population_age_70_79, population_age_80_and_older, nurses_per_1000, physicians_per_1000, health_expenditure_usd, area_sq_km, life_expectancy FROM `bigquery-public-data.covid19_open_data.covid19_open_data` WHERE aggregation_level = 0 ORDER BY country_name\"\n",
    "query_country = client.query(query)\n",
    "query_country_result = query_country.result()\n",
    "country_df = query_country_result.to_dataframe()\n",
    "country_df.to_csv('wyniki\\\\country_data.csv', index=False)"
   ]
  },
  {
   "cell_type": "markdown",
   "id": "00f93035-6a72-4771-adaa-2d8343be2f3c",
   "metadata": {},
   "source": [
    "4.2. Chcemy wygenerować statystyki dotyczące zachorowań na COVID-19 na całym świecie."
   ]
  },
  {
   "cell_type": "code",
   "execution_count": 8,
   "id": "0e7eb4dc-3e03-49e7-89af-3d4d22856392",
   "metadata": {
    "ExecuteTime": {
     "end_time": "2024-04-04T20:48:20.840475100Z",
     "start_time": "2024-04-04T20:47:37.564305100Z"
    }
   },
   "outputs": [],
   "source": [
    "query = \"SELECT country_name, date, new_confirmed, new_confirmed_male, new_confirmed_female, new_confirmed_age_0, new_confirmed_age_1, new_confirmed_age_2, new_confirmed_age_3, new_confirmed_age_4, new_confirmed_age_5, new_confirmed_age_6, new_confirmed_age_7, new_confirmed_age_8, new_confirmed_age_9 , cumulative_confirmed   FROM `bigquery-public-data.covid19_open_data.covid19_open_data` WHERE aggregation_level = 0 ORDER BY country_name, date \"\n",
    "query_disease = client.query(query)\n",
    "query_disease_result = query_disease.result()\n",
    "disease_df = query_disease_result.to_dataframe()\n",
    "disease_df.to_csv('wyniki\\\\disease_data.csv', index=False)"
   ]
  },
  {
   "cell_type": "markdown",
   "id": "76c0f9db-8008-4633-a9c9-cac0b5cf52e3",
   "metadata": {},
   "source": [
    "4.3. Chcemy poznać efekty COVID-19 poprzez uwypuklenie problemu śmiertelności ludzi spowodowanej wirusem."
   ]
  },
  {
   "cell_type": "code",
   "execution_count": 9,
   "id": "d294da36-bfdb-461a-b20c-f807321e7d6a",
   "metadata": {
    "ExecuteTime": {
     "end_time": "2024-04-04T20:49:00.888597500Z",
     "start_time": "2024-04-04T20:48:20.842478400Z"
    }
   },
   "outputs": [],
   "source": [
    "query = \"SELECT country_name, date, new_deceased, new_deceased_male, new_deceased_female,  new_deceased_age_0 , new_deceased_age_1 , new_deceased_age_2 , new_deceased_age_3 , new_deceased_age_4 , new_deceased_age_5 , new_deceased_age_6 , new_deceased_age_7 , new_deceased_age_8 , new_deceased_age_9, cumulative_deceased  FROM `bigquery-public-data.covid19_open_data.covid19_open_data`  WHERE aggregation_level = 0 ORDER BY country_name, date\"\n",
    "query_deceased = client.query(query)\n",
    "query_deceased_result = query_deceased.result()\n",
    "deceased_df = query_deceased_result.to_dataframe()\n",
    "deceased_df.to_csv('wyniki\\\\deceased_data.csv', index=False)"
   ]
  },
  {
   "cell_type": "markdown",
   "id": "56c59366-b5a8-4d8f-96ce-6a9cce4cd125",
   "metadata": {},
   "source": [
    "4.4. Chcemy zaobserwować trendy i zależności dotyczące szczepień na COVID-19."
   ]
  },
  {
   "cell_type": "code",
   "execution_count": 10,
   "id": "388395ec-b05f-49be-9151-1fe36d22ca87",
   "metadata": {
    "ExecuteTime": {
     "end_time": "2024-04-04T20:53:00.641352Z",
     "start_time": "2024-04-04T20:52:30.931756100Z"
    }
   },
   "outputs": [],
   "source": [
    "query = \"SELECT country_name, date, new_persons_vaccinated, new_persons_fully_vaccinated, new_persons_fully_vaccinated_moderna, new_persons_fully_vaccinated_pfizer, new_persons_fully_vaccinated_janssen, new_recovered_male, new_recovered_female FROM `bigquery-public-data.covid19_open_data.covid19_open_data` WHERE aggregation_level = 0 ORDER BY country_name, date \"\n",
    "query_vaccine = client.query(query)\n",
    "query_vaccine_result = query_vaccine.result()\n",
    "vaccine_df = query_vaccine_result.to_dataframe()\n",
    "vaccine_df.to_csv('wyniki\\\\vaccine_data.csv', index=False)"
   ]
  },
  {
   "cell_type": "markdown",
   "id": "90aec923-b91f-4a5e-90bd-4f94c589bdff",
   "metadata": {},
   "source": [
    "4.5. Zdefiniuj własny dodatkowy przypadek.\n",
    "\n",
    "Liczba wykonanych testów na całym świecie"
   ]
  },
  {
   "cell_type": "code",
   "execution_count": 11,
   "id": "94827b41-9731-44ec-8022-8f56ee7295ff",
   "metadata": {
    "ExecuteTime": {
     "end_time": "2024-04-04T20:54:28.520137100Z",
     "start_time": "2024-04-04T20:53:47.592440800Z"
    }
   },
   "outputs": [],
   "source": [
    "query = \"SELECT country_name, date, new_tested, new_tested_male, new_tested_female, new_tested_age_0, new_tested_age_1, new_tested_age_2, new_tested_age_3, new_tested_age_4, new_tested_age_5, new_tested_age_6, new_tested_age_7, new_tested_age_8, new_tested_age_9, cumulative_tested FROM `bigquery-public-data.covid19_open_data.covid19_open_data` WHERE aggregation_level = 0 ORDER BY country_name, date \"\n",
    "query_tested = client.query(query)\n",
    "query_tested_result = query_tested.result()\n",
    "tested_df = query_tested_result.to_dataframe()\n",
    "tested_df.to_csv('wyniki\\\\tested_data.csv', index=False)"
   ]
  },
  {
   "cell_type": "markdown",
   "id": "9af20576-052c-4fea-8a44-d84489e1afcd",
   "metadata": {},
   "source": [
    "Część 5\n",
    "\n",
    "Połącz ze sobą wszystkie dane otrzymane w części 4. Nowy zbiór danych zapisz jako oddzielny obiekt DataFrame. Jeżeli uważasz, że należy stworzyć kilka takich obiektów, zrób to i zapisz swoje uzasadnienie. Pamiętaj o ciągłej konieczności zachowania czystości danych. Wynik tego zadania zapisz w pliku / plikach CSV."
   ]
  },
  {
   "cell_type": "code",
   "execution_count": 12,
   "id": "1593e1f2-ab55-4d9d-bc8c-525883bffd41",
   "metadata": {
    "ExecuteTime": {
     "end_time": "2024-04-04T21:31:59.888565600Z",
     "start_time": "2024-04-04T21:31:56.007953200Z"
    }
   },
   "outputs": [],
   "source": [
    "\n",
    "\n",
    "merged1_df = pd.merge(disease_df, deceased_df, on=['country_name','date'], how='inner')\n",
    "merged2_df = pd.merge(merged1_df, vaccine_df, on=['country_name', 'date'], how='inner')\n",
    "merged3_df = pd.merge(merged2_df, tested_df, on=['country_name', 'date'], how='inner')\n",
    "\n",
    "merged3_df.to_csv('wyniki\\\\merged_5_test.csv', index=False)"
   ]
  },
  {
   "cell_type": "markdown",
   "id": "bb40af1a-cbfc-471e-a989-a76477513ae9",
   "metadata": {},
   "source": [
    "Część 6\n",
    "\n",
    "Połącz ze sobą dane otrzymane w części 5 oraz dane znajdujące się w plikach:\n",
    "- world_countries.csv\n",
    "- gdp.csv\n",
    "Nowy zbiór danych zapisz jako oddzielny obiekt DataFrame. Jeżeli uważasz, że należy stworzyć kilka takich obiektów, zrób to i zapisz swoje uzasadnienie. Pamiętaj o ciągłej konieczności zachowania czystości danych. Wynik tego zadania zapisz w pliku / plikach CSV."
   ]
  },
  {
   "cell_type": "code",
   "execution_count": 14,
   "id": "2bf3a837-2e8c-4a0e-8dfd-32b1997e7270",
   "metadata": {
    "ExecuteTime": {
     "end_time": "2024-03-19T11:30:52.555131900Z",
     "start_time": "2024-03-19T11:30:52.447124300Z"
    }
   },
   "outputs": [],
   "source": [
    "world_countries_df = pd.read_csv('dane_z_wikamp\\\\world_countries.csv')\n",
    "gdp_df = pd.read_csv('dane_z_wikamp\\\\gdp.csv')\n",
    "\n",
    "country_df = pd.merge(country_df, world_countries_df, left_on='country_name', right_on='Country/Territory')\n",
    "country_df.drop('Country/Territory', axis=1, inplace=True)\n",
    "country_df.drop('CCA3', axis=1, inplace=True)\n",
    "country_df.to_csv('wyniki\\\\part_6_01_merged.csv', index=False)\n",
    "\n"
   ]
  },
  {
   "cell_type": "markdown",
   "id": "90ad90c2-aa31-41b0-af64-e9ae7ec228f3",
   "metadata": {
    "ExecuteTime": {
     "end_time": "2024-03-19T11:30:52.567122300Z",
     "start_time": "2024-03-19T11:30:52.554125400Z"
    },
    "collapsed": false,
    "jupyter": {
     "outputs_hidden": false
    }
   },
   "source": [
    "Druga część z GDP"
   ]
  },
  {
   "cell_type": "code",
   "execution_count": 18,
   "id": "51b0e5c9-88a5-4baa-8d4a-d0ba6d5c4be7",
   "metadata": {},
   "outputs": [],
   "source": [
    "pivot_gdp_df = gdp_df.pivot(index='Country Name', columns='Year', values='Value')\n",
    "\n",
    "pivot_gdp_df.reset_index(inplace=True)\n",
    "pivot_gdp_df.index.name = 'index'\n",
    "country_df = pd.merge(country_df, pivot_gdp_df, left_on='country_name', right_on='Country Name')\n",
    "country_df.drop('Country Name', axis=1, inplace=True)\n",
    "country_df.to_csv('wyniki\\\\part_6_02_merged.csv', index=False)\n"
   ]
  },
  {
   "cell_type": "code",
   "execution_count": null,
   "id": "92506f0c-e002-4f48-af32-764bdbea4c89",
   "metadata": {},
   "outputs": [],
   "source": []
  }
 ],
 "metadata": {
  "kernelspec": {
   "display_name": "Python 3 (ipykernel)",
   "language": "python",
   "name": "python3"
  },
  "language_info": {
   "codemirror_mode": {
    "name": "ipython",
    "version": 3
   },
   "file_extension": ".py",
   "mimetype": "text/x-python",
   "name": "python",
   "nbconvert_exporter": "python",
   "pygments_lexer": "ipython3",
   "version": "3.11.2"
  }
 },
 "nbformat": 4,
 "nbformat_minor": 5
}
