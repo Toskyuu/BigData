{
 "cells": [
  {
   "cell_type": "markdown",
   "id": "b341f502-0057-47ec-a58e-ca2b8a2c0fcb",
   "metadata": {},
   "source": [
    "2.5. Uruchom klienta BigQuery z poziomu Pythona."
   ]
  },
  {
   "cell_type": "code",
   "execution_count": 1,
   "id": "7746a461-aed9-4414-8bc2-3f0183a9f8f4",
   "metadata": {
    "ExecuteTime": {
     "end_time": "2024-04-04T20:31:24.951996Z",
     "start_time": "2024-04-04T20:31:24.930003800Z"
    }
   },
   "outputs": [],
   "source": [
    "import os\n",
    "import pandas as pd\n",
    "from google.cloud import bigquery\n",
    "os.environ[\"GOOGLE_APPLICATION_CREDENTIALS\"] = \"..\\\\windy-access-416710-5959edbfa345.json\"  # lokalizacja pobranego klucza z punktu 1.4.\n",
    "client = bigquery.Client()"
   ]
  },
  {
   "cell_type": "markdown",
   "id": "76e9f9ae-105c-4b6f-90ff-e279def51b68",
   "metadata": {},
   "source": [
    " 2.6. Pobierz dane do obiektu DataFrame."
   ]
  },
  {
   "cell_type": "code",
   "execution_count": 2,
   "id": "1f9785ba-d169-4b1c-b989-d9657a1817e9",
   "metadata": {
    "ExecuteTime": {
     "end_time": "2024-04-04T20:31:28.782505700Z",
     "start_time": "2024-04-04T20:31:25.967129700Z"
    }
   },
   "outputs": [],
   "source": [
    "query = \"SELECT * FROM `bigquery-public-data.covid19_open_data.covid19_open_data` LIMIT 10\"\n",
    "query_job = client.query(query)\n",
    "query_result = query_job.result()\n",
    "df = query_result.to_dataframe()"
   ]
  },
  {
   "cell_type": "markdown",
   "id": "ff750ecf-101f-43f2-920b-19331ccd0780",
   "metadata": {},
   "source": [
    "Część 4\n",
    "\n",
    "Przeanalizuj poniższe przypadki. Zastanów się, jakie dane potrzebujesz do każdego z nich, a następnie zapisz je w osobnych, jak najprostszych obiektach DataFrame. Na tym etapie nie przetwarzaj ich. Zadbaj o czystość danych, m.in. usuń niepotrzebne puste wartości i duplikaty, zunifikuj sposób podawania informacji, zaproponuj sposób naprawy błędnych danych. Gotowe dane z obiektów DataFrame zapisz w osobnych plikach CSV."
   ]
  },
  {
   "cell_type": "markdown",
   "id": "f69e4939-05d0-46ce-8dd7-e3b7f41aa8fa",
   "metadata": {},
   "source": [
    "4.1. Chcemy posiadać podstawowe dane o wszystkich krajach świata, które będą zrozumiałe dla człowieka oraz uniwersalne i potencjalnie przyszłościowe do dalszego przetwarzania."
   ]
  },
  {
   "cell_type": "code",
   "execution_count": 13,
   "id": "d65454d8-0de8-4205-ba42-0600035e1ba1",
   "metadata": {
    "ExecuteTime": {
     "end_time": "2024-04-04T20:44:50.836210Z",
     "start_time": "2024-04-04T20:44:49.468756100Z"
    }
   },
   "outputs": [],
   "source": [
    "query = \"SELECT DISTINCT country_name, iso_3166_1_alpha_2, iso_3166_1_alpha_3, gdp_usd, gdp_per_capita_usd, population, population_male, population_female, population_rural, population_urban, population_density, population_age_00_09, population_age_10_19, population_age_20_29, population_age_30_39, population_age_40_49, population_age_50_59, population_age_60_69, population_age_70_79, population_age_80_and_older, nurses_per_1000, physicians_per_1000, health_expenditure_usd, area_sq_km, life_expectancy FROM `bigquery-public-data.covid19_open_data.covid19_open_data` WHERE aggregation_level = 0 ORDER BY country_name\"\n",
    "query_country = client.query(query)\n",
    "query_country_result = query_country.result()\n",
    "country_df = query_country_result.to_dataframe()\n",
    "country_df.to_csv('wyniki\\\\country_data.csv', index=False)"
   ]
  },
  {
   "cell_type": "markdown",
   "id": "00f93035-6a72-4771-adaa-2d8343be2f3c",
   "metadata": {},
   "source": [
    "4.2. Chcemy wygenerować statystyki dotyczące zachorowań na COVID-19 na całym świecie."
   ]
  },
  {
   "cell_type": "code",
   "execution_count": 4,
   "id": "0e7eb4dc-3e03-49e7-89af-3d4d22856392",
   "metadata": {
    "ExecuteTime": {
     "end_time": "2024-04-04T20:48:20.840475100Z",
     "start_time": "2024-04-04T20:47:37.564305100Z"
    }
   },
   "outputs": [],
   "source": [
    "query = \"SELECT country_name, date, new_confirmed, new_confirmed_male, new_confirmed_female, new_confirmed_age_0, new_confirmed_age_1, new_confirmed_age_2, new_confirmed_age_3, new_confirmed_age_4, new_confirmed_age_5, new_confirmed_age_6, new_confirmed_age_7, new_confirmed_age_8, new_confirmed_age_9 , cumulative_confirmed   FROM `bigquery-public-data.covid19_open_data.covid19_open_data` WHERE aggregation_level = 0 ORDER BY country_name, date \"\n",
    "query_disease = client.query(query)\n",
    "query_disease_result = query_disease.result()\n",
    "disease_df = query_disease_result.to_dataframe()\n",
    "disease_df.to_csv('wyniki\\\\disease_data.csv', index=False)"
   ]
  },
  {
   "cell_type": "markdown",
   "id": "76c0f9db-8008-4633-a9c9-cac0b5cf52e3",
   "metadata": {},
   "source": [
    "4.3. Chcemy poznać efekty COVID-19 poprzez uwypuklenie problemu śmiertelności ludzi spowodowanej wirusem."
   ]
  },
  {
   "cell_type": "code",
   "execution_count": 5,
   "id": "d294da36-bfdb-461a-b20c-f807321e7d6a",
   "metadata": {
    "ExecuteTime": {
     "end_time": "2024-04-04T20:49:00.888597500Z",
     "start_time": "2024-04-04T20:48:20.842478400Z"
    }
   },
   "outputs": [],
   "source": [
    "query = \"SELECT country_name, date, new_deceased, new_deceased_male, new_deceased_female,  new_deceased_age_0 , new_deceased_age_1 , new_deceased_age_2 , new_deceased_age_3 , new_deceased_age_4 , new_deceased_age_5 , new_deceased_age_6 , new_deceased_age_7 , new_deceased_age_8 , new_deceased_age_9, cumulative_deceased  FROM `bigquery-public-data.covid19_open_data.covid19_open_data`  WHERE aggregation_level = 0 ORDER BY country_name, date\"\n",
    "query_deceased = client.query(query)\n",
    "query_deceased_result = query_deceased.result()\n",
    "deceased_df = query_deceased_result.to_dataframe()\n",
    "deceased_df.to_csv('wyniki\\\\deceased_data.csv', index=False)"
   ]
  },
  {
   "cell_type": "markdown",
   "id": "56c59366-b5a8-4d8f-96ce-6a9cce4cd125",
   "metadata": {},
   "source": [
    "4.4. Chcemy zaobserwować trendy i zależności dotyczące szczepień na COVID-19."
   ]
  },
  {
   "cell_type": "code",
   "execution_count": 7,
   "id": "388395ec-b05f-49be-9151-1fe36d22ca87",
   "metadata": {
    "ExecuteTime": {
     "end_time": "2024-04-04T20:53:00.641352Z",
     "start_time": "2024-04-04T20:52:30.931756100Z"
    }
   },
   "outputs": [],
   "source": [
    "query = \"SELECT country_name, date, new_persons_vaccinated, new_persons_fully_vaccinated, new_persons_fully_vaccinated_moderna, new_persons_fully_vaccinated_pfizer, new_persons_fully_vaccinated_janssen, new_recovered_male, new_recovered_female, cumulative_persons_vaccinated FROM `bigquery-public-data.covid19_open_data.covid19_open_data` WHERE aggregation_level = 0 ORDER BY country_name, date \"\n",
    "query_vaccine = client.query(query)\n",
    "query_vaccine_result = query_vaccine.result()\n",
    "vaccine_df = query_vaccine_result.to_dataframe()\n",
    "vaccine_df.to_csv('wyniki\\\\vaccine_data.csv', index=False)"
   ]
  },
  {
   "cell_type": "markdown",
   "id": "90aec923-b91f-4a5e-90bd-4f94c589bdff",
   "metadata": {},
   "source": [
    "4.5. Zdefiniuj własny dodatkowy przypadek.\n",
    "\n",
    "Liczba wykonanych testów na całym świecie"
   ]
  },
  {
   "cell_type": "code",
   "execution_count": 8,
   "id": "94827b41-9731-44ec-8022-8f56ee7295ff",
   "metadata": {
    "ExecuteTime": {
     "end_time": "2024-04-04T20:54:28.520137100Z",
     "start_time": "2024-04-04T20:53:47.592440800Z"
    }
   },
   "outputs": [],
   "source": [
    "query = \"SELECT country_name, date, new_tested, new_tested_male, new_tested_female, new_tested_age_0, new_tested_age_1, new_tested_age_2, new_tested_age_3, new_tested_age_4, new_tested_age_5, new_tested_age_6, new_tested_age_7, new_tested_age_8, new_tested_age_9, cumulative_tested FROM `bigquery-public-data.covid19_open_data.covid19_open_data` WHERE aggregation_level = 0 ORDER BY country_name, date \"\n",
    "query_tested = client.query(query)\n",
    "query_tested_result = query_tested.result()\n",
    "tested_df = query_tested_result.to_dataframe()\n",
    "tested_df.to_csv('wyniki\\\\tested_data.csv', index=False)"
   ]
  },
  {
   "cell_type": "markdown",
   "id": "9af20576-052c-4fea-8a44-d84489e1afcd",
   "metadata": {},
   "source": [
    "Część 5\n",
    "\n",
    "Połącz ze sobą wszystkie dane otrzymane w części 4. Nowy zbiór danych zapisz jako oddzielny obiekt DataFrame. Jeżeli uważasz, że należy stworzyć kilka takich obiektów, zrób to i zapisz swoje uzasadnienie. Pamiętaj o ciągłej konieczności zachowania czystości danych. Wynik tego zadania zapisz w pliku / plikach CSV."
   ]
  },
  {
   "cell_type": "code",
   "execution_count": 9,
   "id": "1593e1f2-ab55-4d9d-bc8c-525883bffd41",
   "metadata": {
    "ExecuteTime": {
     "end_time": "2024-04-04T21:31:59.888565600Z",
     "start_time": "2024-04-04T21:31:56.007953200Z"
    }
   },
   "outputs": [],
   "source": [
    "\n",
    "\n",
    "merged1_df = pd.merge(disease_df, deceased_df, on=['country_name','date'], how='inner')\n",
    "merged2_df = pd.merge(merged1_df, vaccine_df, on=['country_name', 'date'], how='inner')\n",
    "merged3_df = pd.merge(merged2_df, tested_df, on=['country_name', 'date'], how='inner')\n",
    "\n",
    "merged3_df.to_csv('wyniki\\\\merged_5.csv', index=False)"
   ]
  },
  {
   "cell_type": "markdown",
   "id": "bb40af1a-cbfc-471e-a989-a76477513ae9",
   "metadata": {},
   "source": [
    "Część 6\n",
    "\n",
    "Połącz ze sobą dane otrzymane w części 5 oraz dane znajdujące się w plikach:\n",
    "- world_countries.csv\n",
    "- gdp.csv\n",
    "Nowy zbiór danych zapisz jako oddzielny obiekt DataFrame. Jeżeli uważasz, że należy stworzyć kilka takich obiektów, zrób to i zapisz swoje uzasadnienie. Pamiętaj o ciągłej konieczności zachowania czystości danych. Wynik tego zadania zapisz w pliku / plikach CSV."
   ]
  },
  {
   "cell_type": "code",
   "execution_count": 19,
   "id": "2bf3a837-2e8c-4a0e-8dfd-32b1997e7270",
   "metadata": {
    "ExecuteTime": {
     "end_time": "2024-03-19T11:30:52.555131900Z",
     "start_time": "2024-03-19T11:30:52.447124300Z"
    }
   },
   "outputs": [],
   "source": [
    "world_countries_df = pd.read_csv('dane_z_wikamp\\\\world_countries.csv')\n",
    "gdp_df = pd.read_csv('dane_z_wikamp\\\\gdp.csv')\n",
    "\n",
    "country_df = pd.merge(country_df, world_countries_df, left_on='country_name', right_on='Country/Territory')\n",
    "country_df.drop('Country/Territory', axis=1, inplace=True)\n",
    "country_df.drop('CCA3', axis=1, inplace=True)\n",
    "country_df.to_csv('wyniki\\\\merged_6_1.csv', index=False)\n",
    "\n"
   ]
  },
  {
   "cell_type": "markdown",
   "id": "90ad90c2-aa31-41b0-af64-e9ae7ec228f3",
   "metadata": {
    "ExecuteTime": {
     "end_time": "2024-03-19T11:30:52.567122300Z",
     "start_time": "2024-03-19T11:30:52.554125400Z"
    },
    "collapsed": false,
    "jupyter": {
     "outputs_hidden": false
    }
   },
   "source": [
    "Druga część z GDP"
   ]
  },
  {
   "cell_type": "code",
   "execution_count": 20,
   "id": "51b0e5c9-88a5-4baa-8d4a-d0ba6d5c4be7",
   "metadata": {},
   "outputs": [
    {
     "ename": "MergeError",
     "evalue": "Passing 'suffixes' which cause duplicate columns {'gdp_1997_x', 'gdp_1972_x', 'gdp_2006_x', 'gdp_1983_x', 'gdp_1973_x', 'gdp_1984_x', 'gdp_1991_x', 'gdp_2000_x', 'gdp_1989_x', 'gdp_1974_x', 'gdp_1979_x', 'gdp_2010_x', 'gdp_2011_x', 'gdp_1970_x', 'gdp_1993_x', 'gdp_1978_x', 'gdp_2003_x', 'gdp_1988_x', 'gdp_1990_x', 'gdp_1964_x', 'gdp_1985_x', 'gdp_1995_x', 'gdp_2012_x', 'gdp_1986_x', 'gdp_2002_x', 'gdp_2013_x', 'gdp_2014_x', 'gdp_2008_x', 'gdp_1962_x', 'gdp_1969_x', 'gdp_1966_x', 'gdp_1963_x', 'gdp_1980_x', 'gdp_1982_x', 'gdp_1981_x', 'gdp_1987_x', 'gdp_1967_x', 'gdp_1992_x', 'gdp_1994_x', 'gdp_1977_x', 'gdp_1998_x', 'gdp_2005_x', 'gdp_1976_x', 'gdp_2007_x', 'gdp_1996_x', 'gdp_1975_x', 'gdp_2001_x', 'gdp_1965_x', 'gdp_2015_x', 'gdp_1999_x', 'gdp_2009_x', 'gdp_2004_x', 'gdp_1960_x', 'gdp_2016_x', 'gdp_1968_x', 'gdp_1961_x', 'gdp_1971_x'} is not allowed.",
     "output_type": "error",
     "traceback": [
      "\u001b[1;31m---------------------------------------------------------------------------\u001b[0m",
      "\u001b[1;31mMergeError\u001b[0m                                Traceback (most recent call last)",
      "Cell \u001b[1;32mIn[20], line 6\u001b[0m\n\u001b[0;32m      4\u001b[0m pivot_gdp_df\u001b[38;5;241m.\u001b[39mreset_index(inplace\u001b[38;5;241m=\u001b[39m\u001b[38;5;28;01mTrue\u001b[39;00m)\n\u001b[0;32m      5\u001b[0m pivot_gdp_df\u001b[38;5;241m.\u001b[39mindex\u001b[38;5;241m.\u001b[39mname \u001b[38;5;241m=\u001b[39m \u001b[38;5;124m'\u001b[39m\u001b[38;5;124mindex\u001b[39m\u001b[38;5;124m'\u001b[39m\n\u001b[1;32m----> 6\u001b[0m country_df \u001b[38;5;241m=\u001b[39m \u001b[43mpd\u001b[49m\u001b[38;5;241;43m.\u001b[39;49m\u001b[43mmerge\u001b[49m\u001b[43m(\u001b[49m\u001b[43mcountry_df\u001b[49m\u001b[43m,\u001b[49m\u001b[43m \u001b[49m\u001b[43mpivot_gdp_df\u001b[49m\u001b[43m,\u001b[49m\u001b[43m \u001b[49m\u001b[43mleft_on\u001b[49m\u001b[38;5;241;43m=\u001b[39;49m\u001b[38;5;124;43m'\u001b[39;49m\u001b[38;5;124;43mcountry_name\u001b[39;49m\u001b[38;5;124;43m'\u001b[39;49m\u001b[43m,\u001b[49m\u001b[43m \u001b[49m\u001b[43mright_on\u001b[49m\u001b[38;5;241;43m=\u001b[39;49m\u001b[38;5;124;43m'\u001b[39;49m\u001b[38;5;124;43mCountry Name\u001b[39;49m\u001b[38;5;124;43m'\u001b[39;49m\u001b[43m)\u001b[49m\n\u001b[0;32m      7\u001b[0m country_df\u001b[38;5;241m.\u001b[39mdrop(\u001b[38;5;124m'\u001b[39m\u001b[38;5;124mCountry Name\u001b[39m\u001b[38;5;124m'\u001b[39m, axis\u001b[38;5;241m=\u001b[39m\u001b[38;5;241m1\u001b[39m, inplace\u001b[38;5;241m=\u001b[39m\u001b[38;5;28;01mTrue\u001b[39;00m)\n\u001b[0;32m      8\u001b[0m country_df\u001b[38;5;241m.\u001b[39mto_csv(\u001b[38;5;124m'\u001b[39m\u001b[38;5;124mwyniki\u001b[39m\u001b[38;5;130;01m\\\\\u001b[39;00m\u001b[38;5;124mmerged_6_2.csv\u001b[39m\u001b[38;5;124m'\u001b[39m, index\u001b[38;5;241m=\u001b[39m\u001b[38;5;28;01mFalse\u001b[39;00m)\n",
      "File \u001b[1;32m~\\OneDrive\\Pulpit\\semestr 6\\BigData\\zad1\\venv\\Lib\\site-packages\\pandas\\core\\reshape\\merge.py:184\u001b[0m, in \u001b[0;36mmerge\u001b[1;34m(left, right, how, on, left_on, right_on, left_index, right_index, sort, suffixes, copy, indicator, validate)\u001b[0m\n\u001b[0;32m    169\u001b[0m \u001b[38;5;28;01melse\u001b[39;00m:\n\u001b[0;32m    170\u001b[0m     op \u001b[38;5;241m=\u001b[39m _MergeOperation(\n\u001b[0;32m    171\u001b[0m         left_df,\n\u001b[0;32m    172\u001b[0m         right_df,\n\u001b[1;32m   (...)\u001b[0m\n\u001b[0;32m    182\u001b[0m         validate\u001b[38;5;241m=\u001b[39mvalidate,\n\u001b[0;32m    183\u001b[0m     )\n\u001b[1;32m--> 184\u001b[0m     \u001b[38;5;28;01mreturn\u001b[39;00m \u001b[43mop\u001b[49m\u001b[38;5;241;43m.\u001b[39;49m\u001b[43mget_result\u001b[49m\u001b[43m(\u001b[49m\u001b[43mcopy\u001b[49m\u001b[38;5;241;43m=\u001b[39;49m\u001b[43mcopy\u001b[49m\u001b[43m)\u001b[49m\n",
      "File \u001b[1;32m~\\OneDrive\\Pulpit\\semestr 6\\BigData\\zad1\\venv\\Lib\\site-packages\\pandas\\core\\reshape\\merge.py:888\u001b[0m, in \u001b[0;36m_MergeOperation.get_result\u001b[1;34m(self, copy)\u001b[0m\n\u001b[0;32m    884\u001b[0m     \u001b[38;5;28mself\u001b[39m\u001b[38;5;241m.\u001b[39mleft, \u001b[38;5;28mself\u001b[39m\u001b[38;5;241m.\u001b[39mright \u001b[38;5;241m=\u001b[39m \u001b[38;5;28mself\u001b[39m\u001b[38;5;241m.\u001b[39m_indicator_pre_merge(\u001b[38;5;28mself\u001b[39m\u001b[38;5;241m.\u001b[39mleft, \u001b[38;5;28mself\u001b[39m\u001b[38;5;241m.\u001b[39mright)\n\u001b[0;32m    886\u001b[0m join_index, left_indexer, right_indexer \u001b[38;5;241m=\u001b[39m \u001b[38;5;28mself\u001b[39m\u001b[38;5;241m.\u001b[39m_get_join_info()\n\u001b[1;32m--> 888\u001b[0m result \u001b[38;5;241m=\u001b[39m \u001b[38;5;28;43mself\u001b[39;49m\u001b[38;5;241;43m.\u001b[39;49m\u001b[43m_reindex_and_concat\u001b[49m\u001b[43m(\u001b[49m\n\u001b[0;32m    889\u001b[0m \u001b[43m    \u001b[49m\u001b[43mjoin_index\u001b[49m\u001b[43m,\u001b[49m\u001b[43m \u001b[49m\u001b[43mleft_indexer\u001b[49m\u001b[43m,\u001b[49m\u001b[43m \u001b[49m\u001b[43mright_indexer\u001b[49m\u001b[43m,\u001b[49m\u001b[43m \u001b[49m\u001b[43mcopy\u001b[49m\u001b[38;5;241;43m=\u001b[39;49m\u001b[43mcopy\u001b[49m\n\u001b[0;32m    890\u001b[0m \u001b[43m\u001b[49m\u001b[43m)\u001b[49m\n\u001b[0;32m    891\u001b[0m result \u001b[38;5;241m=\u001b[39m result\u001b[38;5;241m.\u001b[39m__finalize__(\u001b[38;5;28mself\u001b[39m, method\u001b[38;5;241m=\u001b[39m\u001b[38;5;28mself\u001b[39m\u001b[38;5;241m.\u001b[39m_merge_type)\n\u001b[0;32m    893\u001b[0m \u001b[38;5;28;01mif\u001b[39;00m \u001b[38;5;28mself\u001b[39m\u001b[38;5;241m.\u001b[39mindicator:\n",
      "File \u001b[1;32m~\\OneDrive\\Pulpit\\semestr 6\\BigData\\zad1\\venv\\Lib\\site-packages\\pandas\\core\\reshape\\merge.py:840\u001b[0m, in \u001b[0;36m_MergeOperation._reindex_and_concat\u001b[1;34m(self, join_index, left_indexer, right_indexer, copy)\u001b[0m\n\u001b[0;32m    837\u001b[0m left \u001b[38;5;241m=\u001b[39m \u001b[38;5;28mself\u001b[39m\u001b[38;5;241m.\u001b[39mleft[:]\n\u001b[0;32m    838\u001b[0m right \u001b[38;5;241m=\u001b[39m \u001b[38;5;28mself\u001b[39m\u001b[38;5;241m.\u001b[39mright[:]\n\u001b[1;32m--> 840\u001b[0m llabels, rlabels \u001b[38;5;241m=\u001b[39m \u001b[43m_items_overlap_with_suffix\u001b[49m\u001b[43m(\u001b[49m\n\u001b[0;32m    841\u001b[0m \u001b[43m    \u001b[49m\u001b[38;5;28;43mself\u001b[39;49m\u001b[38;5;241;43m.\u001b[39;49m\u001b[43mleft\u001b[49m\u001b[38;5;241;43m.\u001b[39;49m\u001b[43m_info_axis\u001b[49m\u001b[43m,\u001b[49m\u001b[43m \u001b[49m\u001b[38;5;28;43mself\u001b[39;49m\u001b[38;5;241;43m.\u001b[39;49m\u001b[43mright\u001b[49m\u001b[38;5;241;43m.\u001b[39;49m\u001b[43m_info_axis\u001b[49m\u001b[43m,\u001b[49m\u001b[43m \u001b[49m\u001b[38;5;28;43mself\u001b[39;49m\u001b[38;5;241;43m.\u001b[39;49m\u001b[43msuffixes\u001b[49m\n\u001b[0;32m    842\u001b[0m \u001b[43m\u001b[49m\u001b[43m)\u001b[49m\n\u001b[0;32m    844\u001b[0m \u001b[38;5;28;01mif\u001b[39;00m left_indexer \u001b[38;5;129;01mis\u001b[39;00m \u001b[38;5;129;01mnot\u001b[39;00m \u001b[38;5;28;01mNone\u001b[39;00m \u001b[38;5;129;01mand\u001b[39;00m \u001b[38;5;129;01mnot\u001b[39;00m is_range_indexer(left_indexer, \u001b[38;5;28mlen\u001b[39m(left)):\n\u001b[0;32m    845\u001b[0m     \u001b[38;5;66;03m# Pinning the index here (and in the right code just below) is not\u001b[39;00m\n\u001b[0;32m    846\u001b[0m     \u001b[38;5;66;03m#  necessary, but makes the `.take` more performant if we have e.g.\u001b[39;00m\n\u001b[0;32m    847\u001b[0m     \u001b[38;5;66;03m#  a MultiIndex for left.index.\u001b[39;00m\n\u001b[0;32m    848\u001b[0m     lmgr \u001b[38;5;241m=\u001b[39m left\u001b[38;5;241m.\u001b[39m_mgr\u001b[38;5;241m.\u001b[39mreindex_indexer(\n\u001b[0;32m    849\u001b[0m         join_index,\n\u001b[0;32m    850\u001b[0m         left_indexer,\n\u001b[1;32m   (...)\u001b[0m\n\u001b[0;32m    855\u001b[0m         use_na_proxy\u001b[38;5;241m=\u001b[39m\u001b[38;5;28;01mTrue\u001b[39;00m,\n\u001b[0;32m    856\u001b[0m     )\n",
      "File \u001b[1;32m~\\OneDrive\\Pulpit\\semestr 6\\BigData\\zad1\\venv\\Lib\\site-packages\\pandas\\core\\reshape\\merge.py:2757\u001b[0m, in \u001b[0;36m_items_overlap_with_suffix\u001b[1;34m(left, right, suffixes)\u001b[0m\n\u001b[0;32m   2755\u001b[0m     dups\u001b[38;5;241m.\u001b[39mextend(rlabels[(rlabels\u001b[38;5;241m.\u001b[39mduplicated()) \u001b[38;5;241m&\u001b[39m (\u001b[38;5;241m~\u001b[39mright\u001b[38;5;241m.\u001b[39mduplicated())]\u001b[38;5;241m.\u001b[39mtolist())\n\u001b[0;32m   2756\u001b[0m \u001b[38;5;28;01mif\u001b[39;00m dups:\n\u001b[1;32m-> 2757\u001b[0m     \u001b[38;5;28;01mraise\u001b[39;00m MergeError(\n\u001b[0;32m   2758\u001b[0m         \u001b[38;5;124mf\u001b[39m\u001b[38;5;124m\"\u001b[39m\u001b[38;5;124mPassing \u001b[39m\u001b[38;5;124m'\u001b[39m\u001b[38;5;124msuffixes\u001b[39m\u001b[38;5;124m'\u001b[39m\u001b[38;5;124m which cause duplicate columns \u001b[39m\u001b[38;5;132;01m{\u001b[39;00m\u001b[38;5;28mset\u001b[39m(dups)\u001b[38;5;132;01m}\u001b[39;00m\u001b[38;5;124m is \u001b[39m\u001b[38;5;124m\"\u001b[39m\n\u001b[0;32m   2759\u001b[0m         \u001b[38;5;124mf\u001b[39m\u001b[38;5;124m\"\u001b[39m\u001b[38;5;124mnot allowed.\u001b[39m\u001b[38;5;124m\"\u001b[39m,\n\u001b[0;32m   2760\u001b[0m     )\n\u001b[0;32m   2762\u001b[0m \u001b[38;5;28;01mreturn\u001b[39;00m llabels, rlabels\n",
      "\u001b[1;31mMergeError\u001b[0m: Passing 'suffixes' which cause duplicate columns {'gdp_1997_x', 'gdp_1972_x', 'gdp_2006_x', 'gdp_1983_x', 'gdp_1973_x', 'gdp_1984_x', 'gdp_1991_x', 'gdp_2000_x', 'gdp_1989_x', 'gdp_1974_x', 'gdp_1979_x', 'gdp_2010_x', 'gdp_2011_x', 'gdp_1970_x', 'gdp_1993_x', 'gdp_1978_x', 'gdp_2003_x', 'gdp_1988_x', 'gdp_1990_x', 'gdp_1964_x', 'gdp_1985_x', 'gdp_1995_x', 'gdp_2012_x', 'gdp_1986_x', 'gdp_2002_x', 'gdp_2013_x', 'gdp_2014_x', 'gdp_2008_x', 'gdp_1962_x', 'gdp_1969_x', 'gdp_1966_x', 'gdp_1963_x', 'gdp_1980_x', 'gdp_1982_x', 'gdp_1981_x', 'gdp_1987_x', 'gdp_1967_x', 'gdp_1992_x', 'gdp_1994_x', 'gdp_1977_x', 'gdp_1998_x', 'gdp_2005_x', 'gdp_1976_x', 'gdp_2007_x', 'gdp_1996_x', 'gdp_1975_x', 'gdp_2001_x', 'gdp_1965_x', 'gdp_2015_x', 'gdp_1999_x', 'gdp_2009_x', 'gdp_2004_x', 'gdp_1960_x', 'gdp_2016_x', 'gdp_1968_x', 'gdp_1961_x', 'gdp_1971_x'} is not allowed."
     ]
    }
   ],
   "source": [
    "pivot_gdp_df = gdp_df.pivot(index='Country Name', columns='Year', values='Value')\n",
    "pivot_gdp_df.columns = ['gdp_' + str(column) for column in pivot_gdp_df.columns]\n",
    "\n",
    "pivot_gdp_df.reset_index(inplace=True)\n",
    "pivot_gdp_df.index.name = 'index'\n",
    "country_df = pd.merge(country_df, pivot_gdp_df, left_on='country_name', right_on='Country Name')\n",
    "country_df.drop('Country Name', axis=1, inplace=True)\n",
    "country_df.to_csv('wyniki\\\\merged_6_2.csv', index=False)\n"
   ]
  },
  {
   "cell_type": "code",
   "execution_count": null,
   "id": "92506f0c-e002-4f48-af32-764bdbea4c89",
   "metadata": {},
   "outputs": [],
   "source": []
  }
 ],
 "metadata": {
  "kernelspec": {
   "display_name": "Python 3 (ipykernel)",
   "language": "python",
   "name": "python3"
  },
  "language_info": {
   "codemirror_mode": {
    "name": "ipython",
    "version": 3
   },
   "file_extension": ".py",
   "mimetype": "text/x-python",
   "name": "python",
   "nbconvert_exporter": "python",
   "pygments_lexer": "ipython3",
   "version": "3.11.2"
  }
 },
 "nbformat": 4,
 "nbformat_minor": 5
}
